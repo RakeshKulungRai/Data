{
 "cells": [
  {
   "cell_type": "code",
   "execution_count": 1,
   "id": "7951a8bd",
   "metadata": {},
   "outputs": [],
   "source": [
    "import re\n",
    "re.search('n','\\n') #first item is pattern, second is string"
   ]
  },
  {
   "cell_type": "code",
   "execution_count": null,
   "id": "2823a66a",
   "metadata": {},
   "outputs": [],
   "source": [
    "#re.search(pattern, string, flags)\n",
    "#re.match(pattern,  string, flags)\n",
    "re.match('c','cbcd') #search only if in the begining of the string"
   ]
  },
  {
   "cell_type": "code",
   "execution_count": null,
   "id": "54911325",
   "metadata": {},
   "outputs": [],
   "source": [
    "re.search('c','abaced') #searches anywhere"
   ]
  },
  {
   "cell_type": "code",
   "execution_count": null,
   "id": "6ff4fab8",
   "metadata": {},
   "outputs": [],
   "source": [
    "print(bool(re.match('a','acbcd')))\n",
    "bool(re.match('a','cbcd'))"
   ]
  },
  {
   "cell_type": "code",
   "execution_count": null,
   "id": "c78491fa",
   "metadata": {},
   "outputs": [],
   "source": [
    "re.search('cc','aadfdfd\\nccc').group() # re.search search in multiline "
   ]
  },
  {
   "cell_type": "code",
   "execution_count": null,
   "id": "e10861c4",
   "metadata": {},
   "outputs": [],
   "source": [
    "re.match(\"c\",\"dfjdkfj\\nc\") #not working with begining of new line"
   ]
  },
  {
   "cell_type": "code",
   "execution_count": null,
   "id": "12b6cb3f",
   "metadata": {},
   "outputs": [],
   "source": [
    "re.match(\"a\",'abcedg').group()"
   ]
  },
  {
   "cell_type": "code",
   "execution_count": null,
   "id": "025e7ee4",
   "metadata": {},
   "outputs": [],
   "source": [
    "re.search('\\d{5}-\\d{5}','aadfdfd\\nccc99999-98789').group()"
   ]
  },
  {
   "cell_type": "code",
   "execution_count": null,
   "id": "69757818",
   "metadata": {},
   "outputs": [],
   "source": [
    "re.findall('n|a',\"bcdefng \\nabcda\") #it's find all of the character in all string"
   ]
  },
  {
   "cell_type": "code",
   "execution_count": null,
   "id": "e8fdf514",
   "metadata": {},
   "outputs": [],
   "source": [
    "re.search(r'\\w\\w\\w\\w','_adbcddd bcde') #matches character and numbers and underscore"
   ]
  },
  {
   "cell_type": "code",
   "execution_count": null,
   "id": "6c78f57d",
   "metadata": {},
   "outputs": [],
   "source": [
    "#\\w matches alpha numeric characters [a-zA-Z0-9_]"
   ]
  },
  {
   "cell_type": "code",
   "execution_count": null,
   "id": "4f0c6962",
   "metadata": {},
   "outputs": [],
   "source": [
    "bool(re.search(r'\\w\\w\\w\\w','a3.!-!')) #doesn't match symbols only numbers and character"
   ]
  },
  {
   "cell_type": "code",
   "execution_count": null,
   "id": "e9efc859",
   "metadata": {},
   "outputs": [],
   "source": [
    "#\\W(uppercase W) not included \\w(lowercase w) and matches empty space as well"
   ]
  },
  {
   "cell_type": "code",
   "execution_count": null,
   "id": "1670dcb4",
   "metadata": {},
   "outputs": [],
   "source": [
    "re.findall(r'\\W\\W','cddd./bcde !\\| opd')"
   ]
  },
  {
   "cell_type": "code",
   "execution_count": null,
   "id": "685ffc44",
   "metadata": {},
   "outputs": [],
   "source": [
    "#quantifiers\n",
    "#\n",
    "#'+' = 1 or more #greedy quantifier, it needs more\n",
    "#'?' = 0 ore 1   #greedy\n",
    "#'*' = 0 or more \n",
    "#'{n,m}' = n to m repetitions {,3} {3,} #greedy"
   ]
  },
  {
   "cell_type": "code",
   "execution_count": null,
   "id": "431e7b62",
   "metadata": {},
   "outputs": [],
   "source": [
    "re.search('\\w+','asksd_2323').group()"
   ]
  },
  {
   "cell_type": "code",
   "execution_count": null,
   "id": "e3ed2e96",
   "metadata": {},
   "outputs": [],
   "source": [
    "re.search('\\w+\\W+\\w+','asksd_              2323').group()"
   ]
  },
  {
   "cell_type": "code",
   "execution_count": null,
   "id": "66c09438",
   "metadata": {},
   "outputs": [],
   "source": [
    "re.search(r'\\w+\\W?\\w+','abcddfdf').group()"
   ]
  },
  {
   "cell_type": "code",
   "execution_count": null,
   "id": "ef4babd6",
   "metadata": {},
   "outputs": [],
   "source": [
    "re.search(r'\\w+\\W?\\w+','abcd dfdf').group()"
   ]
  },
  {
   "cell_type": "code",
   "execution_count": null,
   "id": "76935e88",
   "metadata": {},
   "outputs": [],
   "source": [
    "re.findall('a{1,3}','aawaeeerataaattaataaa')"
   ]
  },
  {
   "cell_type": "code",
   "execution_count": null,
   "id": "670fb5ca",
   "metadata": {},
   "outputs": [],
   "source": [
    "re.search(r'\\w{1,10}\\W{0,4}\\w+','abcde dfkdfkdfk').group()"
   ]
  },
  {
   "cell_type": "code",
   "execution_count": null,
   "id": "0c5ae14b",
   "metadata": {},
   "outputs": [],
   "source": [
    "re.search(r'\\w{1,}\\W{0,4}\\w+','abcdddddddddddddddddddddde dfkdfkdfk').group()"
   ]
  },
  {
   "cell_type": "code",
   "execution_count": null,
   "id": "57f3aaca",
   "metadata": {},
   "outputs": [],
   "source": [
    " #Other types of Characters sets\n",
    "# '\\d' = matches digits [0-9] \n",
    "# ''\\D' = matches any non-digit character; ~\\d"
   ]
  },
  {
   "cell_type": "code",
   "execution_count": null,
   "id": "bf72ee84",
   "metadata": {},
   "outputs": [],
   "source": [
    "string = '23abcd_!?>'\n",
    "re.search('\\d+\\D+',string).group()"
   ]
  },
  {
   "cell_type": "code",
   "execution_count": null,
   "id": "4b0b9ad7",
   "metadata": {},
   "outputs": [],
   "source": [
    "#  '\\s' : matches any whitespace character\n",
    "# '\\S' : matches any non nay non whitespace character #~\\s"
   ]
  },
  {
   "cell_type": "code",
   "execution_count": null,
   "id": "16e7a90b",
   "metadata": {},
   "outputs": [],
   "source": [
    "string = ' 23abce d++'\n",
    "re.search('\\S+',string).group()"
   ]
  },
  {
   "cell_type": "code",
   "execution_count": null,
   "id": "fefd142b",
   "metadata": {},
   "outputs": [],
   "source": [
    "string = 'hello there is a good communication  between you and i so it is  good to see the problem of the solution of the nepal is a landlock country'"
   ]
  },
  {
   "cell_type": "code",
   "execution_count": null,
   "id": "577a32b1",
   "metadata": {},
   "outputs": [],
   "source": [
    "re.findall('\\S+',string)"
   ]
  },
  {
   "cell_type": "code",
   "execution_count": null,
   "id": "bf283073",
   "metadata": {},
   "outputs": [],
   "source": [
    "' '.join(re.findall('\\S+',string))"
   ]
  },
  {
   "cell_type": "code",
   "execution_count": null,
   "id": "517c2573",
   "metadata": {},
   "outputs": [],
   "source": [
    "# . the dot matches any character except the newline"
   ]
  },
  {
   "cell_type": "code",
   "execution_count": null,
   "id": "2b3e6655",
   "metadata": {},
   "outputs": [],
   "source": [
    "re.search('.+',string)"
   ]
  },
  {
   "cell_type": "code",
   "execution_count": null,
   "id": "0ea90d6a",
   "metadata": {},
   "outputs": [],
   "source": [
    "re.search('.+',string,flags = re.DOTALL).group() #re.DOTALL include all new line"
   ]
  },
  {
   "cell_type": "code",
   "execution_count": 164,
   "id": "f0cc6b43",
   "metadata": {},
   "outputs": [],
   "source": [
    "\n",
    "#Creating your own character sets\n",
    "#[A-Z] all upercase characte form A to Z\n"
   ]
  },
  {
   "cell_type": "code",
   "execution_count": 202,
   "id": "36e6f071",
   "metadata": {},
   "outputs": [
    {
     "data": {
      "text/plain": [
       "['H', 'E', ',', 'T', ',', 'H', ',', 'A', ',', 'Y', '.', '.', '.']"
      ]
     },
     "execution_count": 202,
     "metadata": {},
     "output_type": "execute_result"
    }
   ],
   "source": [
    "string = \"HEello, There , How, Are, You...\"\n",
    "re.findall('[A-Z,.]' ,string) #all characte from A-z and all comma(,) and all DOT(.)"
   ]
  },
  {
   "cell_type": "code",
   "execution_count": 203,
   "id": "cd54712b",
   "metadata": {},
   "outputs": [
    {
     "data": {
      "text/plain": [
       "['H',\n",
       " 'E',\n",
       " 'e',\n",
       " 'l',\n",
       " 'l',\n",
       " 'o',\n",
       " ',',\n",
       " ' ',\n",
       " 'T',\n",
       " 'h',\n",
       " 'e',\n",
       " 'r',\n",
       " 'e',\n",
       " ' ',\n",
       " ',',\n",
       " ' ',\n",
       " 'H',\n",
       " 'o',\n",
       " 'w',\n",
       " ',',\n",
       " ' ',\n",
       " 'A',\n",
       " 'r',\n",
       " 'e',\n",
       " ',',\n",
       " ' ',\n",
       " 'Y',\n",
       " 'o',\n",
       " 'u',\n",
       " '.',\n",
       " '.',\n",
       " '.']"
      ]
     },
     "execution_count": 203,
     "metadata": {},
     "output_type": "execute_result"
    }
   ],
   "source": [
    "re.findall('[A-Za-z,.\\s]',string) #all upercase character, all lowercase , comma, space, dot  "
   ]
  },
  {
   "cell_type": "code",
   "execution_count": 204,
   "id": "5cff9193",
   "metadata": {},
   "outputs": [],
   "source": [
    "#quantifers with custom sets  "
   ]
  },
  {
   "cell_type": "code",
   "execution_count": 205,
   "id": "fb363757",
   "metadata": {},
   "outputs": [],
   "source": [
    "string = \"HELLO, There, How, Are, You...\""
   ]
  },
  {
   "cell_type": "code",
   "execution_count": 210,
   "id": "219354ca",
   "metadata": {},
   "outputs": [
    {
     "data": {
      "text/plain": [
       "'HELLO'"
      ]
     },
     "execution_count": 210,
     "metadata": {},
     "output_type": "execute_result"
    }
   ],
   "source": [
    "re.search(\"[A-Z]+\",string).group()"
   ]
  },
  {
   "cell_type": "code",
   "execution_count": 212,
   "id": "b8b67b61",
   "metadata": {},
   "outputs": [
    {
     "data": {
      "text/plain": [
       "['HELLO', 'T', 'H', 'A', 'Y']"
      ]
     },
     "execution_count": 212,
     "metadata": {},
     "output_type": "execute_result"
    }
   ],
   "source": [
    "re.findall(\"[A-Z]+\",string)"
   ]
  },
  {
   "cell_type": "code",
   "execution_count": 213,
   "id": "ef8ffa45",
   "metadata": {},
   "outputs": [
    {
     "data": {
      "text/plain": [
       "'HELLO, There, How, Are, You'"
      ]
     },
     "execution_count": 213,
     "metadata": {},
     "output_type": "execute_result"
    }
   ],
   "source": [
    "re.search(\"[A-Za-z\\s,]+\",string).group()"
   ]
  },
  {
   "cell_type": "code",
   "execution_count": 214,
   "id": "0b5ab87b",
   "metadata": {},
   "outputs": [
    {
     "data": {
      "text/plain": [
       "['O, ', 'There, ', 'How, ', 'Are, ', 'You']"
      ]
     },
     "execution_count": 214,
     "metadata": {},
     "output_type": "execute_result"
    }
   ],
   "source": [
    "re.findall('[A-Z]?[a-z\\s,]+',string)"
   ]
  },
  {
   "cell_type": "code",
   "execution_count": 224,
   "id": "d3122d3e",
   "metadata": {},
   "outputs": [
    {
     "data": {
      "text/plain": [
       "'...'"
      ]
     },
     "execution_count": 224,
     "metadata": {},
     "output_type": "execute_result"
    }
   ],
   "source": [
    "re.search('[^A-Za-z\\s,]+',string).group() #^complement or negate the string"
   ]
  },
  {
   "cell_type": "code",
   "execution_count": 225,
   "id": "571df1da",
   "metadata": {},
   "outputs": [
    {
     "data": {
      "text/plain": [
       "[', ', 'here, ', 'ow, ', 're, ', 'ou...']"
      ]
     },
     "execution_count": 225,
     "metadata": {},
     "output_type": "execute_result"
    }
   ],
   "source": [
    "re.findall('[^A-Z]+',string)"
   ]
  },
  {
   "cell_type": "code",
   "execution_count": 40,
   "id": "4c09e06b",
   "metadata": {},
   "outputs": [],
   "source": [
    "string = \"John has 6 cats but I think my friend Susan has 3 dogs and Mike has 8 fishes\""
   ]
  },
  {
   "cell_type": "code",
   "execution_count": 47,
   "id": "9027c152",
   "metadata": {},
   "outputs": [
    {
     "data": {
      "text/plain": [
       "['John has 6 cats', 'Susan has 3 dogs', 'Mike has 8 fishes']"
      ]
     },
     "execution_count": 47,
     "metadata": {},
     "output_type": "execute_result"
    }
   ],
   "source": [
    "re.findall('[A-Za-z]+ \\w+ \\d+ \\w+',string)"
   ]
  },
  {
   "cell_type": "code",
   "execution_count": 42,
   "id": "2594eb37",
   "metadata": {},
   "outputs": [],
   "source": [
    "#() denotes a group"
   ]
  },
  {
   "cell_type": "code",
   "execution_count": 45,
   "id": "2a2f0c22",
   "metadata": {},
   "outputs": [
    {
     "data": {
      "text/plain": [
       "['John', 'Susan', 'Mike']"
      ]
     },
     "execution_count": 45,
     "metadata": {},
     "output_type": "execute_result"
    }
   ],
   "source": [
    "re.findall('([A-Za-z]+) \\w+ \\d \\w+',string)  #pull out just the name"
   ]
  },
  {
   "cell_type": "code",
   "execution_count": 49,
   "id": "11572365",
   "metadata": {},
   "outputs": [
    {
     "data": {
      "text/plain": [
       "['cats', 'dogs', 'fishes']"
      ]
     },
     "execution_count": 49,
     "metadata": {},
     "output_type": "execute_result"
    }
   ],
   "source": [
    "re.findall('[A-Za-z]+ \\w+ \\d+ (\\w+)',string)"
   ]
  },
  {
   "cell_type": "code",
   "execution_count": 55,
   "id": "59d91592",
   "metadata": {},
   "outputs": [],
   "source": [
    "info = re.findall('([A-Za-z]+) (\\w+) (\\d+) (\\w+)',string)"
   ]
  },
  {
   "cell_type": "code",
   "execution_count": 58,
   "id": "d9a27901",
   "metadata": {},
   "outputs": [
    {
     "data": {
      "text/plain": [
       "[('John', 'Susan', 'Mike'),\n",
       " ('has', 'has', 'has'),\n",
       " ('6', '3', '8'),\n",
       " ('cats', 'dogs', 'fishes')]"
      ]
     },
     "execution_count": 58,
     "metadata": {},
     "output_type": "execute_result"
    }
   ],
   "source": [
    "list(zip(*info))"
   ]
  },
  {
   "cell_type": "code",
   "execution_count": 61,
   "id": "28ad5226",
   "metadata": {},
   "outputs": [],
   "source": [
    "match = re.search('([A-Za-z]+) \\w+ (\\d+) (\\w+)',string)"
   ]
  },
  {
   "cell_type": "code",
   "execution_count": 67,
   "id": "3bd0716e",
   "metadata": {},
   "outputs": [
    {
     "data": {
      "text/plain": [
       "'John has 6 cats'"
      ]
     },
     "execution_count": 67,
     "metadata": {},
     "output_type": "execute_result"
    }
   ],
   "source": [
    "match.group()"
   ]
  },
  {
   "cell_type": "code",
   "execution_count": 68,
   "id": "5b1a3524",
   "metadata": {},
   "outputs": [
    {
     "data": {
      "text/plain": [
       "('John', 'cats')"
      ]
     },
     "execution_count": 68,
     "metadata": {},
     "output_type": "execute_result"
    }
   ],
   "source": [
    "match.group(1,3)"
   ]
  },
  {
   "cell_type": "code",
   "execution_count": 69,
   "id": "c0507db6",
   "metadata": {},
   "outputs": [
    {
     "data": {
      "text/plain": [
       "('cats', '6', 'John', 'John')"
      ]
     },
     "execution_count": 69,
     "metadata": {},
     "output_type": "execute_result"
    }
   ],
   "source": [
    "match.group(3,2,1,1)"
   ]
  },
  {
   "cell_type": "code",
   "execution_count": 70,
   "id": "73f7579f",
   "metadata": {},
   "outputs": [
    {
     "data": {
      "text/plain": [
       "(0, 15)"
      ]
     },
     "execution_count": 70,
     "metadata": {},
     "output_type": "execute_result"
    }
   ],
   "source": [
    "match.span()"
   ]
  },
  {
   "cell_type": "code",
   "execution_count": 71,
   "id": "dd03eda2",
   "metadata": {},
   "outputs": [
    {
     "data": {
      "text/plain": [
       "(9, 10)"
      ]
     },
     "execution_count": 71,
     "metadata": {},
     "output_type": "execute_result"
    }
   ],
   "source": [
    "match.span(2)"
   ]
  },
  {
   "cell_type": "code",
   "execution_count": 72,
   "id": "cd49fa82",
   "metadata": {},
   "outputs": [
    {
     "data": {
      "text/plain": [
       "(0, 4)"
      ]
     },
     "execution_count": 72,
     "metadata": {},
     "output_type": "execute_result"
    }
   ],
   "source": [
    "match.span(1)"
   ]
  },
  {
   "cell_type": "code",
   "execution_count": 74,
   "id": "079ef0e5",
   "metadata": {},
   "outputs": [
    {
     "data": {
      "text/plain": [
       "(11, 15)"
      ]
     },
     "execution_count": 74,
     "metadata": {},
     "output_type": "execute_result"
    }
   ],
   "source": [
    "match.span(3)"
   ]
  },
  {
   "cell_type": "code",
   "execution_count": 76,
   "id": "0187db7a",
   "metadata": {},
   "outputs": [
    {
     "data": {
      "text/plain": [
       "11"
      ]
     },
     "execution_count": 76,
     "metadata": {},
     "output_type": "execute_result"
    }
   ],
   "source": [
    "match.start(3)"
   ]
  },
  {
   "cell_type": "code",
   "execution_count": 80,
   "id": "5528b515",
   "metadata": {},
   "outputs": [
    {
     "data": {
      "text/plain": [
       "9"
      ]
     },
     "execution_count": 80,
     "metadata": {},
     "output_type": "execute_result"
    }
   ],
   "source": [
    "match.start(2)"
   ]
  },
  {
   "cell_type": "code",
   "execution_count": 88,
   "id": "0b3ffdcd",
   "metadata": {},
   "outputs": [
    {
     "data": {
      "text/plain": [
       "('John', '6', 'cats')"
      ]
     },
     "execution_count": 88,
     "metadata": {},
     "output_type": "execute_result"
    }
   ],
   "source": [
    "re.findall('([A-Za-z]+) \\w+ (\\d+) (\\w+)',string)[0]"
   ]
  },
  {
   "cell_type": "code",
   "execution_count": 92,
   "id": "654a1ec3",
   "metadata": {},
   "outputs": [],
   "source": [
    "data = re.findall('(([A-Za-z]+) \\w+ (\\d+) (\\w+))',string)"
   ]
  },
  {
   "cell_type": "code",
   "execution_count": 93,
   "id": "a1a461ad",
   "metadata": {},
   "outputs": [
    {
     "data": {
      "text/plain": [
       "[('John has 6 cats', 'John', '6', 'cats'),\n",
       " ('Susan has 3 dogs', 'Susan', '3', 'dogs'),\n",
       " ('Mike has 8 fishes', 'Mike', '8', 'fishes')]"
      ]
     },
     "execution_count": 93,
     "metadata": {},
     "output_type": "execute_result"
    }
   ],
   "source": [
    "data"
   ]
  },
  {
   "cell_type": "code",
   "execution_count": 101,
   "id": "34e42391",
   "metadata": {},
   "outputs": [
    {
     "name": "stdout",
     "output_type": "stream",
     "text": [
      "John has 6 cats\n",
      "Susan has 3 dogs\n",
      "Mike has 8 fishes\n"
     ]
    }
   ],
   "source": [
    "for i in data:\n",
    "    print(i[0])"
   ]
  },
  {
   "cell_type": "code",
   "execution_count": 102,
   "id": "ace3f93c",
   "metadata": {},
   "outputs": [],
   "source": [
    "#we can use iteration"
   ]
  },
  {
   "cell_type": "code",
   "execution_count": 118,
   "id": "54374fd8",
   "metadata": {},
   "outputs": [],
   "source": [
    "it = re.finditer('([A-Za-z]+) \\w+ (\\d+) (\\w+)',string)"
   ]
  },
  {
   "cell_type": "code",
   "execution_count": 119,
   "id": "b8e5c7bf",
   "metadata": {},
   "outputs": [
    {
     "data": {
      "text/plain": [
       "('John', '6', 'cats')"
      ]
     },
     "execution_count": 119,
     "metadata": {},
     "output_type": "execute_result"
    }
   ],
   "source": [
    "next(it).groups()"
   ]
  },
  {
   "cell_type": "code",
   "execution_count": 120,
   "id": "dcf80bc6",
   "metadata": {},
   "outputs": [
    {
     "name": "stdout",
     "output_type": "stream",
     "text": [
      "('Susan', 'dogs', '3')\n",
      "('Mike', 'fishes', '8')\n"
     ]
    }
   ],
   "source": [
    "for element in it:\n",
    "    print(element.group(1,3,2))"
   ]
  },
  {
   "cell_type": "code",
   "execution_count": 121,
   "id": "76479aee",
   "metadata": {},
   "outputs": [],
   "source": [
    "string = 'New York, New York 11369'"
   ]
  },
  {
   "cell_type": "code",
   "execution_count": 122,
   "id": "e62d29ac",
   "metadata": {},
   "outputs": [],
   "source": [
    "#([A-Za-z\\s]+)\n",
    "#([A-Za-z\\s]+)\n",
    "#(\\d+)"
   ]
  },
  {
   "cell_type": "code",
   "execution_count": 123,
   "id": "f76da7b3",
   "metadata": {},
   "outputs": [],
   "source": [
    "match = re.search('([A-Za-z\\s]+), ([A-Za-z\\s]+) (\\d+)',string)"
   ]
  },
  {
   "cell_type": "code",
   "execution_count": 128,
   "id": "fe5e60f9",
   "metadata": {},
   "outputs": [
    {
     "data": {
      "text/plain": [
       "('New York', 'New York', '11369', 'New York, New York 11369')"
      ]
     },
     "execution_count": 128,
     "metadata": {},
     "output_type": "execute_result"
    }
   ],
   "source": [
    "match.group(1) , match.group(2), match.group(3), match.group(0)"
   ]
  },
  {
   "cell_type": "code",
   "execution_count": 129,
   "id": "a6ef6b67",
   "metadata": {},
   "outputs": [],
   "source": [
    "#?P<> #to name a group-- groupname inside the <>\n",
    "#(?P<City>) (?P<State>) (?P<ZipCode>) "
   ]
  },
  {
   "cell_type": "code",
   "execution_count": 136,
   "id": "f17bde32",
   "metadata": {},
   "outputs": [],
   "source": [
    "pattern = re.compile('(?P<City>[A-Za-z\\s]+), (?P<State>[A-Za-z\\s]+) (?P<ZipCode>\\d+)') #reuse"
   ]
  },
  {
   "cell_type": "code",
   "execution_count": 137,
   "id": "06f57904",
   "metadata": {},
   "outputs": [],
   "source": [
    "match = re.search(pattern,string)"
   ]
  },
  {
   "cell_type": "code",
   "execution_count": 139,
   "id": "583c750d",
   "metadata": {},
   "outputs": [
    {
     "data": {
      "text/plain": [
       "('New York', 'New York', '11369')"
      ]
     },
     "execution_count": 139,
     "metadata": {},
     "output_type": "execute_result"
    }
   ],
   "source": [
    "match.group('City'), match.group('State'), match.group('ZipCode')"
   ]
  },
  {
   "cell_type": "code",
   "execution_count": 141,
   "id": "14538269",
   "metadata": {},
   "outputs": [
    {
     "data": {
      "text/plain": [
       "'New York'"
      ]
     },
     "execution_count": 141,
     "metadata": {},
     "output_type": "execute_result"
    }
   ],
   "source": [
    "match.group(1) #pull out the first group"
   ]
  },
  {
   "cell_type": "code",
   "execution_count": 143,
   "id": "f2e79791",
   "metadata": {},
   "outputs": [
    {
     "data": {
      "text/plain": [
       "{'City': 'New York', 'State': 'New York', 'ZipCode': '11369'}"
      ]
     },
     "execution_count": 143,
     "metadata": {},
     "output_type": "execute_result"
    }
   ],
   "source": [
    "match.groupdict() #group in dictionary"
   ]
  },
  {
   "cell_type": "code",
   "execution_count": 149,
   "id": "9e970fa4",
   "metadata": {},
   "outputs": [
    {
     "data": {
      "text/plain": [
       "<re.Match object; span=(0, 20), match='abababababababababab'>"
      ]
     },
     "execution_count": 149,
     "metadata": {},
     "output_type": "execute_result"
    }
   ],
   "source": [
    "string = 'abababababababababab'\n",
    "re.search('(ab)+',string) #group the custom character"
   ]
  },
  {
   "cell_type": "code",
   "execution_count": 151,
   "id": "e5e61c69",
   "metadata": {},
   "outputs": [
    {
     "data": {
      "text/plain": [
       "'abababababababababab'"
      ]
     },
     "execution_count": 151,
     "metadata": {},
     "output_type": "execute_result"
    }
   ],
   "source": [
    "re.search('[ab]+',string).group()"
   ]
  },
  {
   "cell_type": "code",
   "execution_count": 162,
   "id": "16cb54be",
   "metadata": {},
   "outputs": [
    {
     "data": {
      "text/plain": [
       "'ababababasssss'"
      ]
     },
     "execution_count": 162,
     "metadata": {},
     "output_type": "execute_result"
    }
   ],
   "source": [
    "string = \"ababababasssss\"\n",
    "re.search('(ab)+\\w+',string).group()"
   ]
  },
  {
   "cell_type": "code",
   "execution_count": 158,
   "id": "3c641c52",
   "metadata": {},
   "outputs": [],
   "source": [
    "#Nuances to be wary of"
   ]
  },
  {
   "cell_type": "code",
   "execution_count": 163,
   "id": "119cc58c",
   "metadata": {},
   "outputs": [
    {
     "data": {
      "text/plain": [
       "('ab',)"
      ]
     },
     "execution_count": 163,
     "metadata": {},
     "output_type": "execute_result"
    }
   ],
   "source": [
    "string = 'abababababababababab'\n",
    "match = re.search('(ab)+',string)\n",
    "match.groups()"
   ]
  },
  {
   "cell_type": "code",
   "execution_count": 170,
   "id": "a6e7cda2",
   "metadata": {},
   "outputs": [
    {
     "data": {
      "text/plain": [
       "('ab', 'ab')"
      ]
     },
     "execution_count": 170,
     "metadata": {},
     "output_type": "execute_result"
    }
   ],
   "source": [
    "match = re.search('(ab)+(ab)+',string)\n",
    "match.groups()"
   ]
  },
  {
   "cell_type": "code",
   "execution_count": 175,
   "id": "67ae7d58",
   "metadata": {},
   "outputs": [
    {
     "data": {
      "text/plain": [
       "(18, 20)"
      ]
     },
     "execution_count": 175,
     "metadata": {},
     "output_type": "execute_result"
    }
   ],
   "source": [
    "match.span(2)"
   ]
  },
  {
   "cell_type": "code",
   "execution_count": 176,
   "id": "1d47d49e",
   "metadata": {},
   "outputs": [],
   "source": [
    "string = '123456789'\n",
    "match = re.search('(\\d)+',string)"
   ]
  },
  {
   "cell_type": "code",
   "execution_count": 177,
   "id": "1ede501f",
   "metadata": {},
   "outputs": [
    {
     "data": {
      "text/plain": [
       "<re.Match object; span=(0, 9), match='123456789'>"
      ]
     },
     "execution_count": 177,
     "metadata": {},
     "output_type": "execute_result"
    }
   ],
   "source": [
    "match"
   ]
  },
  {
   "cell_type": "code",
   "execution_count": 186,
   "id": "9027c48c",
   "metadata": {},
   "outputs": [
    {
     "data": {
      "text/plain": [
       "('9',)"
      ]
     },
     "execution_count": 186,
     "metadata": {},
     "output_type": "execute_result"
    }
   ],
   "source": [
    "match.groups() #only one group, and it uses the last value"
   ]
  },
  {
   "cell_type": "code",
   "execution_count": 187,
   "id": "bd4f46f8",
   "metadata": {},
   "outputs": [
    {
     "data": {
      "text/plain": [
       "('9',)"
      ]
     },
     "execution_count": 187,
     "metadata": {},
     "output_type": "execute_result"
    }
   ],
   "source": [
    "match.groups()"
   ]
  },
  {
   "cell_type": "code",
   "execution_count": 189,
   "id": "637f0413",
   "metadata": {},
   "outputs": [],
   "source": [
    "#quantifiers with groups within findall"
   ]
  },
  {
   "cell_type": "code",
   "execution_count": 192,
   "id": "ce1baeee",
   "metadata": {},
   "outputs": [],
   "source": [
    "string = \"123456789\"\n",
    "re.findall('(\\d)+',string)"
   ]
  },
  {
   "cell_type": "code",
   "execution_count": 216,
   "id": "53771e27",
   "metadata": {},
   "outputs": [
    {
     "data": {
      "text/plain": [
       "['4', '9']"
      ]
     },
     "execution_count": 216,
     "metadata": {},
     "output_type": "execute_result"
    }
   ],
   "source": [
    "string = \"1234 56789\"\n",
    "re.findall('(\\d)+',string)"
   ]
  },
  {
   "cell_type": "code",
   "execution_count": 217,
   "id": "0f9a1999",
   "metadata": {},
   "outputs": [
    {
     "data": {
      "text/plain": [
       "[('1234', '4'), ('56789', '9')]"
      ]
     },
     "execution_count": 217,
     "metadata": {},
     "output_type": "execute_result"
    }
   ],
   "source": [
    "re.findall('((\\d)+)',string)\n",
    "#go find full match create a main group engulging teh smaller groups"
   ]
  },
  {
   "cell_type": "code",
   "execution_count": 220,
   "id": "f1f7bccd",
   "metadata": {},
   "outputs": [
    {
     "data": {
      "text/plain": [
       "['ab', 'ab']"
      ]
     },
     "execution_count": 220,
     "metadata": {},
     "output_type": "execute_result"
    }
   ],
   "source": [
    "#another example\n",
    "string = \"abbbbb abababababab\"\n",
    "re.findall('(ab)+',string)"
   ]
  },
  {
   "cell_type": "code",
   "execution_count": 221,
   "id": "5ffb8336",
   "metadata": {},
   "outputs": [
    {
     "data": {
      "text/plain": [
       "[('ab', 'ab'), ('abababababab', 'ab')]"
      ]
     },
     "execution_count": 221,
     "metadata": {},
     "output_type": "execute_result"
    }
   ],
   "source": [
    "re.findall('((ab)+)',string)"
   ]
  },
  {
   "cell_type": "code",
   "execution_count": 222,
   "id": "7d63c876",
   "metadata": {},
   "outputs": [],
   "source": [
    "#Groups for word completion"
   ]
  },
  {
   "cell_type": "code",
   "execution_count": 227,
   "id": "9197b46b",
   "metadata": {},
   "outputs": [
    {
     "data": {
      "text/plain": [
       "'Happy Birthday'"
      ]
     },
     "execution_count": 227,
     "metadata": {},
     "output_type": "execute_result"
    }
   ],
   "source": [
    "re.search('Happy (Valentines|Birthday|Anniversary)','Happy Birthday').group()"
   ]
  },
  {
   "cell_type": "code",
   "execution_count": 228,
   "id": "6f6e15af",
   "metadata": {},
   "outputs": [
    {
     "data": {
      "text/plain": [
       "'Happy Valentines'"
      ]
     },
     "execution_count": 228,
     "metadata": {},
     "output_type": "execute_result"
    }
   ],
   "source": [
    "re.search('Happy (Valentines|Birthday|Anniversary)','Happy Valentines').group()"
   ]
  },
  {
   "cell_type": "code",
   "execution_count": 229,
   "id": "fbfddd69",
   "metadata": {},
   "outputs": [
    {
     "data": {
      "text/plain": [
       "'Happy Birthday'"
      ]
     },
     "execution_count": 229,
     "metadata": {},
     "output_type": "execute_result"
    }
   ],
   "source": [
    "re.search('(Happy Valentines|Happy Birthday|Happy Anniversary)','Happy Birthday').group()"
   ]
  },
  {
   "cell_type": "code",
   "execution_count": 3,
   "id": "9b0fe923",
   "metadata": {},
   "outputs": [],
   "source": [
    "string ='1234 56789'"
   ]
  },
  {
   "cell_type": "code",
   "execution_count": 4,
   "id": "d4402db1",
   "metadata": {},
   "outputs": [
    {
     "data": {
      "text/plain": [
       "['4', '9']"
      ]
     },
     "execution_count": 4,
     "metadata": {},
     "output_type": "execute_result"
    }
   ],
   "source": [
    "re.findall('(\\d)+',string)"
   ]
  },
  {
   "cell_type": "code",
   "execution_count": 5,
   "id": "cbdd0087",
   "metadata": {},
   "outputs": [
    {
     "data": {
      "text/plain": [
       "('4',)"
      ]
     },
     "execution_count": 5,
     "metadata": {},
     "output_type": "execute_result"
    }
   ],
   "source": [
    "re.search('(\\d)+',string).groups()"
   ]
  },
  {
   "cell_type": "code",
   "execution_count": 6,
   "id": "7f47f833",
   "metadata": {},
   "outputs": [],
   "source": [
    "# non-capture groups syntax\n",
    "# ?: The symbol above represents non-capture groups and look slightly\n",
    "# similar to the syntax for naming groups\n",
    "#?P #don't confuse the two please"
   ]
  },
  {
   "cell_type": "code",
   "execution_count": 7,
   "id": "34aee0a3",
   "metadata": {},
   "outputs": [],
   "source": [
    "#comparison"
   ]
  },
  {
   "cell_type": "code",
   "execution_count": 8,
   "id": "79ded7cd",
   "metadata": {},
   "outputs": [
    {
     "data": {
      "text/plain": [
       "['4', '9']"
      ]
     },
     "execution_count": 8,
     "metadata": {},
     "output_type": "execute_result"
    }
   ],
   "source": [
    "re.findall('(\\d)+',string)"
   ]
  },
  {
   "cell_type": "code",
   "execution_count": 13,
   "id": "c983acfc",
   "metadata": {},
   "outputs": [
    {
     "data": {
      "text/plain": [
       "['4', '9']"
      ]
     },
     "execution_count": 13,
     "metadata": {},
     "output_type": "execute_result"
    }
   ],
   "source": [
    "re.findall('(?:\\d)+(\\d+)',string) #with non capture group"
   ]
  },
  {
   "cell_type": "code",
   "execution_count": 10,
   "id": "09b40b3e",
   "metadata": {},
   "outputs": [
    {
     "data": {
      "text/plain": [
       "['1234', '56789']"
      ]
     },
     "execution_count": 10,
     "metadata": {},
     "output_type": "execute_result"
    }
   ],
   "source": [
    "re.findall('\\d+',string)"
   ]
  },
  {
   "cell_type": "code",
   "execution_count": 19,
   "id": "3d637c57",
   "metadata": {},
   "outputs": [],
   "source": [
    "string = '123123 = Alex, 123123123 = Danny, 123123123123 = Mike, 456456 = rick, 121212 = John 132132 = Luis'"
   ]
  },
  {
   "cell_type": "code",
   "execution_count": 20,
   "id": "5c46c677",
   "metadata": {},
   "outputs": [
    {
     "data": {
      "text/plain": [
       "['Alex', 'Danny', 'Mike']"
      ]
     },
     "execution_count": 20,
     "metadata": {},
     "output_type": "execute_result"
    }
   ],
   "source": [
    "re.findall('(?:123)+ = (\\w+),',string)"
   ]
  },
  {
   "cell_type": "code",
   "execution_count": 21,
   "id": "3248ac0d",
   "metadata": {},
   "outputs": [],
   "source": [
    "string = '1*1*1*1*22222 1*1*3333 2*1*2*1*222 1*2*2*2*333 3*3*3*444'"
   ]
  },
  {
   "cell_type": "code",
   "execution_count": 23,
   "id": "61060bac",
   "metadata": {},
   "outputs": [
    {
     "data": {
      "text/plain": [
       "['1*1*1*1*22222', '1*1*3333']"
      ]
     },
     "execution_count": 23,
     "metadata": {},
     "output_type": "execute_result"
    }
   ],
   "source": [
    "re.findall(r'(?:1\\*){2,}\\d+',string)"
   ]
  },
  {
   "cell_type": "code",
   "execution_count": 27,
   "id": "6198fea1",
   "metadata": {},
   "outputs": [
    {
     "data": {
      "text/plain": [
       "'1234'"
      ]
     },
     "execution_count": 27,
     "metadata": {},
     "output_type": "execute_result"
    }
   ],
   "source": [
    "string ='1234 56789'\n",
    "match = re.search('(?:\\d)+',string)\n",
    "match.group()"
   ]
  },
  {
   "cell_type": "code",
   "execution_count": 36,
   "id": "d4a2b8ea",
   "metadata": {},
   "outputs": [
    {
     "data": {
      "text/plain": [
       "<re.Match object; span=(0, 4), match='1234'>"
      ]
     },
     "execution_count": 36,
     "metadata": {},
     "output_type": "execute_result"
    }
   ],
   "source": [
    "re.search('(:?\\d)+',string) #:? incorrenct syntax doesnot work\n"
   ]
  },
  {
   "cell_type": "code",
   "execution_count": 37,
   "id": "b53b7177",
   "metadata": {},
   "outputs": [],
   "source": [
    "#Backreerences - Using capured groups inside othe operations"
   ]
  },
  {
   "cell_type": "code",
   "execution_count": 43,
   "id": "1786a91e",
   "metadata": {},
   "outputs": [
    {
     "data": {
      "text/plain": [
       "<re.Match object; span=(0, 11), match='Merry Merry'>"
      ]
     },
     "execution_count": 43,
     "metadata": {},
     "output_type": "execute_result"
    }
   ],
   "source": [
    "re.search(r'(\\w+) \\1', 'Merry Merry Christmas') #looking for repeated words"
   ]
  },
  {
   "cell_type": "code",
   "execution_count": 51,
   "id": "c6e87507",
   "metadata": {},
   "outputs": [
    {
     "data": {
      "text/plain": [
       "['Happy', 'Christmas']"
      ]
     },
     "execution_count": 51,
     "metadata": {},
     "output_type": "execute_result"
    }
   ],
   "source": [
    "re.findall(r'(\\w+) \\1','Happy Happy Holidays. Merry Christmas Christmas')"
   ]
  },
  {
   "cell_type": "code",
   "execution_count": 52,
   "id": "c0c04ecc",
   "metadata": {},
   "outputs": [
    {
     "data": {
      "text/plain": [
       "['Happy', 'Christmas', 'Merry', 'Christmas']"
      ]
     },
     "execution_count": 52,
     "metadata": {},
     "output_type": "execute_result"
    }
   ],
   "source": [
    "re.findall(r'(\\w+) \\1','Happy Happy Christmas Christmas Merry Merry Christmas Christmas')"
   ]
  },
  {
   "cell_type": "code",
   "execution_count": 6,
   "id": "46efac78",
   "metadata": {},
   "outputs": [],
   "source": [
    "string = \"\"\"U.S. stock-index futrues pointed\n",
    "to a solidly higher open on\n",
    "Monday, indicating that major\n",
    "benchmarks were poised to rebound\n",
    "from last week's sharp decline,\n",
    "which represented their biggest weekly drops in months.\n",
    "fears over North Korea, where tensions\n",
    "with the U.S have been escalating.\n",
    "North Korea, That issue overshadowed the state of\n",
    "the equality market, where earnings have been strong at a time of high\n",
    "employment and low inflation,\n",
    "as well as valuations that a\n",
    "ppear elevated by many metrics, north korea North Korea.\n",
    "\"\"\""
   ]
  },
  {
   "cell_type": "markdown",
   "id": "b06b260d",
   "metadata": {},
   "source": [
    "^ = matches at beginning of strin\n",
    "$ = matches at end of string"
   ]
  },
  {
   "cell_type": "code",
   "execution_count": 7,
   "id": "ca4779d7",
   "metadata": {},
   "outputs": [],
   "source": [
    "re.search('^North Korea\\.?',string)"
   ]
  },
  {
   "cell_type": "code",
   "execution_count": 8,
   "id": "40329174",
   "metadata": {},
   "outputs": [],
   "source": [
    "match = re.match('North Korea\\.?',string)\n",
    "match"
   ]
  },
  {
   "cell_type": "code",
   "execution_count": 9,
   "id": "b0985e19",
   "metadata": {},
   "outputs": [
    {
     "data": {
      "text/plain": [
       "<re.Match object; span=(511, 523), match='North Korea.'>"
      ]
     },
     "execution_count": 9,
     "metadata": {},
     "output_type": "execute_result"
    }
   ],
   "source": [
    "re.search('North Korea\\.?$',string)"
   ]
  },
  {
   "cell_type": "code",
   "execution_count": 19,
   "id": "351d90c8",
   "metadata": {},
   "outputs": [
    {
     "data": {
      "text/plain": [
       "<re.Match object; span=(287, 298), match='North Korea'>"
      ]
     },
     "execution_count": 19,
     "metadata": {},
     "output_type": "execute_result"
    }
   ],
   "source": [
    "re.search('^North Korea\\.?',string, flags = re.MULTILINE)"
   ]
  },
  {
   "cell_type": "code",
   "execution_count": 11,
   "id": "17f15d7c",
   "metadata": {},
   "outputs": [],
   "source": [
    "re.match('^North Korea\\.?', string, flags = re.MULTILINE) #doesn't work with multiline"
   ]
  },
  {
   "cell_type": "code",
   "execution_count": 12,
   "id": "fc27b5a6",
   "metadata": {},
   "outputs": [
    {
     "data": {
      "text/plain": [
       "['North Korea', 'North Korea', 'north korea', 'North Korea']"
      ]
     },
     "execution_count": 12,
     "metadata": {},
     "output_type": "execute_result"
    }
   ],
   "source": [
    "re.findall('North Korea', string, flags = re.IGNORECASE) #ignore case"
   ]
  },
  {
   "cell_type": "code",
   "execution_count": 13,
   "id": "45ff4ca7",
   "metadata": {},
   "outputs": [
    {
     "data": {
      "text/plain": [
       "['North Korea', 'North Korea', 'north korea', 'North Korea']"
      ]
     },
     "execution_count": 13,
     "metadata": {},
     "output_type": "execute_result"
    }
   ],
   "source": [
    "re.findall('North Korea', string, flags = re.I) #doesn't work with multiline"
   ]
  },
  {
   "cell_type": "code",
   "execution_count": 15,
   "id": "2e032c52",
   "metadata": {},
   "outputs": [
    {
     "data": {
      "text/plain": [
       "'U.S. stock-index futrues pointed'"
      ]
     },
     "execution_count": 15,
     "metadata": {},
     "output_type": "execute_result"
    }
   ],
   "source": [
    "re.match('.*', string).group() #dot denotes every character without new line"
   ]
  },
  {
   "cell_type": "code",
   "execution_count": 16,
   "id": "003987f7",
   "metadata": {},
   "outputs": [
    {
     "data": {
      "text/plain": [
       "\"U.S. stock-index futrues pointed\\nto a solidly higher open on\\nMonday, indicating that major\\nbenchmarks were poised to rebound\\nfrom last week's sharp decline,\\nwhich represented their biggest weekly drops in months.\\nfears over North Korea, where tensions\\nwith the U.S have been escalating.\\nNorth Korea, That issue overshadowed the state of\\nthe equality market, where earnings have been strong at a time of high\\nemployment and low inflation,\\nas well as valuations that a\\nppear elevated by many metrics, north korea North Korea.\\n\""
      ]
     },
     "execution_count": 16,
     "metadata": {},
     "output_type": "execute_result"
    }
   ],
   "source": [
    "re.match('.*', string, flags = re.DOTALL).group()"
   ]
  },
  {
   "cell_type": "code",
   "execution_count": 17,
   "id": "962a7263",
   "metadata": {},
   "outputs": [],
   "source": [
    "#Other flags #re.ASCII\n",
    "#re.DEBUG\n",
    "#re.LOCALE"
   ]
  },
  {
   "cell_type": "code",
   "execution_count": 24,
   "id": "ac9996dd",
   "metadata": {},
   "outputs": [
    {
     "data": {
      "text/plain": [
       "['Today is sunny', ' I want go to the park', ' I want to eat ice cream']"
      ]
     },
     "execution_count": 24,
     "metadata": {},
     "output_type": "execute_result"
    }
   ],
   "source": [
    " re.split('\\.','Today is sunny. I want go to the park. I want to eat ice cream')"
   ]
  },
  {
   "cell_type": "code",
   "execution_count": 22,
   "id": "162a043e",
   "metadata": {},
   "outputs": [
    {
     "data": {
      "text/plain": [
       "['Today is sunny',\n",
       " '.',\n",
       " ' I want go to the park',\n",
       " '.',\n",
       " ' I want to eat ice cream']"
      ]
     },
     "execution_count": 22,
     "metadata": {},
     "output_type": "execute_result"
    }
   ],
   "source": [
    " re.split('(\\.)','Today is sunny. I want go to the park. I want to eat ice cream')"
   ]
  },
  {
   "cell_type": "code",
   "execution_count": 31,
   "id": "cffa9f1e",
   "metadata": {},
   "outputs": [
    {
     "data": {
      "text/plain": [
       "['Today is sunny.', ' I want go to the park.', ' I want to eat ice cream.']"
      ]
     },
     "execution_count": 31,
     "metadata": {},
     "output_type": "execute_result"
    }
   ],
   "source": [
    "split = '.'\n",
    "[i+split for i in re.split('\\.','Today is sunny. I want go to the park. I want to eat ice cream')]"
   ]
  },
  {
   "cell_type": "code",
   "execution_count": 68,
   "id": "16ca4803",
   "metadata": {},
   "outputs": [],
   "source": [
    "string = '<p>My mother has <span style=\"color:blue\">blue</span>eye </p>'"
   ]
  },
  {
   "cell_type": "code",
   "execution_count": 69,
   "id": "bb59f3a6",
   "metadata": {},
   "outputs": [
    {
     "data": {
      "text/plain": [
       "['', 'My mother has <span style=\"color:blue\">blue</span>eye </p>']"
      ]
     },
     "execution_count": 69,
     "metadata": {},
     "output_type": "execute_result"
    }
   ],
   "source": [
    "re.split('<\\w+>', string)"
   ]
  },
  {
   "cell_type": "code",
   "execution_count": 73,
   "id": "1420d9e6",
   "metadata": {},
   "outputs": [
    {
     "data": {
      "text/plain": [
       "['', '']"
      ]
     },
     "execution_count": 73,
     "metadata": {},
     "output_type": "execute_result"
    }
   ],
   "source": [
    "re.split('<.+>', string) # captures entire string  # because it is greedy"
   ]
  },
  {
   "cell_type": "code",
   "execution_count": 75,
   "id": "a9de205c",
   "metadata": {},
   "outputs": [
    {
     "data": {
      "text/plain": [
       "['', 'My mother has ', 'blue', 'eye ', '']"
      ]
     },
     "execution_count": 75,
     "metadata": {},
     "output_type": "execute_result"
    }
   ],
   "source": [
    "re.split(\"<[^<>]+>\", string) #empty string problem"
   ]
  },
  {
   "cell_type": "code",
   "execution_count": 77,
   "id": "b3c7185b",
   "metadata": {},
   "outputs": [
    {
     "data": {
      "text/plain": [
       "['', 'happy', ' birthday', '']"
      ]
     },
     "execution_count": 77,
     "metadata": {},
     "output_type": "execute_result"
    }
   ],
   "source": [
    "re.split(',', ',happy, birthday,') #it seems to split at empty "
   ]
  },
  {
   "cell_type": "code",
   "execution_count": 78,
   "id": "fa6e71f7",
   "metadata": {},
   "outputs": [],
   "source": [
    "#Handling empty string problem"
   ]
  },
  {
   "cell_type": "code",
   "execution_count": 79,
   "id": "4d88341c",
   "metadata": {},
   "outputs": [
    {
     "data": {
      "text/plain": [
       "['My mother has ', 'blue', 'eye ']"
      ]
     },
     "execution_count": 79,
     "metadata": {},
     "output_type": "execute_result"
    }
   ],
   "source": [
    "[i for i in re.split(\"<[^<>]+>\", string) if i!='']"
   ]
  },
  {
   "cell_type": "code",
   "execution_count": 86,
   "id": "385f116f",
   "metadata": {},
   "outputs": [
    {
     "data": {
      "text/plain": [
       "['My mother has ', 'blue', 'eye ']"
      ]
     },
     "execution_count": 86,
     "metadata": {},
     "output_type": "execute_result"
    }
   ],
   "source": [
    "re.findall('>([\\w\\s]+)<',string)"
   ]
  },
  {
   "cell_type": "code",
   "execution_count": 108,
   "id": "23c3108e",
   "metadata": {},
   "outputs": [
    {
     "data": {
      "text/plain": [
       "['My mother has ', 'blue', 'eye ']"
      ]
     },
     "execution_count": 108,
     "metadata": {},
     "output_type": "execute_result"
    }
   ],
   "source": [
    "re.findall('>([^<]+)<',string)"
   ]
  },
  {
   "cell_type": "code",
   "execution_count": 114,
   "id": "97a0ebf6",
   "metadata": {},
   "outputs": [],
   "source": [
    "string = ',happy , brithday'"
   ]
  },
  {
   "cell_type": "code",
   "execution_count": 115,
   "id": "3847b0a1",
   "metadata": {},
   "outputs": [
    {
     "data": {
      "text/plain": [
       "['happy ', ' brithday']"
      ]
     },
     "execution_count": 115,
     "metadata": {},
     "output_type": "execute_result"
    }
   ],
   "source": [
    "list(filter(None, string.split(',')))"
   ]
  },
  {
   "cell_type": "code",
   "execution_count": 2,
   "id": "63a46345",
   "metadata": {},
   "outputs": [],
   "source": [
    "string = \"\"\"U.S. stock-index futrues pointed\n",
    "to a solidly higher open on\n",
    "Monday, indicating that major\n",
    "benchmarks were poised to rebound\n",
    "from last week's sharp decline,\n",
    "which represented their biggest weekly drops in months.\n",
    "fears over North Korea, where tensions\n",
    "with the U.S have been escalating.\n",
    "North Korea, That issue overshadowed the state of\n",
    "the equality market, where earnings have been strong at a time of high\n",
    "employment and low inflation,\n",
    "as well as valuations that a\n",
    "ppear elevated by many metrics, north korea North Korea.\n",
    "\"\"\""
   ]
  },
  {
   "cell_type": "code",
   "execution_count": 3,
   "id": "0948fb72",
   "metadata": {},
   "outputs": [
    {
     "data": {
      "text/plain": [
       "\"United States stock-index futrues pointed\\nto a solidly higher open on\\nMonday, indicating that major\\nbenchmarks were poised to rebound\\nfrom last week's sharp decline,\\nwhich represented their biggest weekly drops in months.\\nfears over North Korea, where tensions\\nwith the United Stateshave been escalating.\\nNorth Korea, That issue overshadowed the state of\\nthe equality market, where earnings have been strong at a time of high\\nemployment and low inflation,\\nas well as valuations that a\\nppear elevated by many metrics, north korea North Korea.\\n\""
      ]
     },
     "execution_count": 3,
     "metadata": {},
     "output_type": "execute_result"
    }
   ],
   "source": [
    "re.sub('U.S.|US|USA', 'United States',string)"
   ]
  },
  {
   "cell_type": "markdown",
   "id": "5b9e268d",
   "metadata": {},
   "source": [
    "# Using Function with Sub"
   ]
  },
  {
   "cell_type": "code",
   "execution_count": 4,
   "id": "fb99f3fd",
   "metadata": {},
   "outputs": [
    {
     "data": {
      "text/plain": [
       "4"
      ]
     },
     "execution_count": 4,
     "metadata": {},
     "output_type": "execute_result"
    }
   ],
   "source": [
    "def square(x):\n",
    "    return (x ** 2)\n",
    "square(2)"
   ]
  },
  {
   "cell_type": "code",
   "execution_count": 5,
   "id": "ac7a309a",
   "metadata": {},
   "outputs": [
    {
     "data": {
      "text/plain": [
       "9"
      ]
     },
     "execution_count": 5,
     "metadata": {},
     "output_type": "execute_result"
    }
   ],
   "source": [
    "square = lambda x : x**2\n",
    "square(3)"
   ]
  },
  {
   "cell_type": "code",
   "execution_count": 6,
   "id": "de6311d9",
   "metadata": {},
   "outputs": [],
   "source": [
    "string = 'Dan has 3 snails. Mike has 4 cats. Alisa has 9 monkeys.'"
   ]
  },
  {
   "cell_type": "code",
   "execution_count": 7,
   "id": "b4dfed11",
   "metadata": {},
   "outputs": [
    {
     "data": {
      "text/plain": [
       "<re.Match object; span=(8, 9), match='3'>"
      ]
     },
     "execution_count": 7,
     "metadata": {},
     "output_type": "execute_result"
    }
   ],
   "source": [
    "re.search('(\\d+)',string)"
   ]
  },
  {
   "cell_type": "code",
   "execution_count": 8,
   "id": "8d181b12",
   "metadata": {},
   "outputs": [
    {
     "data": {
      "text/plain": [
       "'Dan has 1 snails. Mike has 1 cats. Alisa has 1 monkeys.'"
      ]
     },
     "execution_count": 8,
     "metadata": {},
     "output_type": "execute_result"
    }
   ],
   "source": [
    "re.sub('(\\d+)', '1', string)"
   ]
  },
  {
   "cell_type": "code",
   "execution_count": 18,
   "id": "8db7aecd",
   "metadata": {},
   "outputs": [
    {
     "data": {
      "text/plain": [
       "'Dan has 9 snails. Mike has 16 cats. Alisa has 81 monkeys.'"
      ]
     },
     "execution_count": 18,
     "metadata": {},
     "output_type": "execute_result"
    }
   ],
   "source": [
    "re.sub('(\\d+)' , lambda x: str(square(int(x.group()))),string)"
   ]
  },
  {
   "cell_type": "code",
   "execution_count": 26,
   "id": "ff97929c",
   "metadata": {},
   "outputs": [
    {
     "data": {
      "text/plain": [
       "'Dan has 4 snails. Mike has 5 cats. Alisa has 10 monkeys.'"
      ]
     },
     "execution_count": 26,
     "metadata": {},
     "output_type": "execute_result"
    }
   ],
   "source": [
    "re.sub('(\\d+)' , lambda x: str(int(x.group(0))+1),string)"
   ]
  },
  {
   "cell_type": "code",
   "execution_count": 11,
   "id": "30f71374",
   "metadata": {},
   "outputs": [
    {
     "data": {
      "text/plain": [
       "'Dan has 3 snails. Mike has 4 cats. Alisa has 9 monkeys.'"
      ]
     },
     "execution_count": 11,
     "metadata": {},
     "output_type": "execute_result"
    }
   ],
   "source": [
    "string"
   ]
  },
  {
   "cell_type": "code",
   "execution_count": 37,
   "id": "664b1025",
   "metadata": {},
   "outputs": [
    {
     "name": "stdout",
     "output_type": "stream",
     "text": [
      "eating laughing sleeping studying\n"
     ]
    }
   ],
   "source": [
    "input = \"eat laugh sleep study\"\n",
    "result = re.sub(\"\\w+\", lambda m: str(m.group()) + \"ing\",input)\n",
    "print(result)"
   ]
  },
  {
   "cell_type": "markdown",
   "id": "12929e13",
   "metadata": {},
   "source": [
    "# Back Referencing with subs"
   ]
  },
  {
   "cell_type": "code",
   "execution_count": 45,
   "id": "3a19e827",
   "metadata": {},
   "outputs": [
    {
     "data": {
      "text/plain": [
       "('Merry', 'Merry')"
      ]
     },
     "execution_count": 45,
     "metadata": {},
     "output_type": "execute_result"
    }
   ],
   "source": [
    "string = \"Merry Merry Christmas\"\n",
    "re.search(r'(\\w+) (\\1)', string).groups()"
   ]
  },
  {
   "cell_type": "code",
   "execution_count": 46,
   "id": "09f4d601",
   "metadata": {},
   "outputs": [
    {
     "data": {
      "text/plain": [
       "'Happy Merry Christmas'"
      ]
     },
     "execution_count": 46,
     "metadata": {},
     "output_type": "execute_result"
    }
   ],
   "source": [
    "re.sub(r'(\\w+) (\\1)',r'Happy \\1',string)"
   ]
  },
  {
   "cell_type": "code",
   "execution_count": 48,
   "id": "b88dcd7f",
   "metadata": {},
   "outputs": [
    {
     "data": {
      "text/plain": [
       "'Merry Happy Christmas'"
      ]
     },
     "execution_count": 48,
     "metadata": {},
     "output_type": "execute_result"
    }
   ],
   "source": [
    "re.sub(r'(\\w+) (\\1)',r'\\1 Happy',string)"
   ]
  },
  {
   "cell_type": "code",
   "execution_count": 51,
   "id": "bb71e6fc",
   "metadata": {},
   "outputs": [
    {
     "data": {
      "text/plain": [
       "'Happy Merry Christmas'"
      ]
     },
     "execution_count": 51,
     "metadata": {},
     "output_type": "execute_result"
    }
   ],
   "source": [
    "re.sub(r'(\\w+) (\\1)',r'Happy \\1',string)"
   ]
  },
  {
   "cell_type": "code",
   "execution_count": 101,
   "id": "e4afb063",
   "metadata": {},
   "outputs": [],
   "source": [
    "# \\b meta character, it si called boundary and allows you to isolate words.\n",
    "# is similar to ^ and $ (location and no consuption)\n",
    "# non alpha numeric character avoid"
   ]
  },
  {
   "cell_type": "code",
   "execution_count": 102,
   "id": "89a9fcaf",
   "metadata": {},
   "outputs": [],
   "source": [
    "string = 'cat catherine catholic wildcat copycat uncatchable'"
   ]
  },
  {
   "cell_type": "code",
   "execution_count": 103,
   "id": "4400cc95",
   "metadata": {},
   "outputs": [],
   "source": [
    "pattern = re.compile('cat')"
   ]
  },
  {
   "cell_type": "code",
   "execution_count": 104,
   "id": "88d41a17",
   "metadata": {},
   "outputs": [
    {
     "data": {
      "text/plain": [
       "['cat', 'cat', 'cat', 'cat', 'cat', 'cat']"
      ]
     },
     "execution_count": 104,
     "metadata": {},
     "output_type": "execute_result"
    }
   ],
   "source": [
    "re.findall(pattern, string)"
   ]
  },
  {
   "cell_type": "code",
   "execution_count": 105,
   "id": "8a211607",
   "metadata": {},
   "outputs": [],
   "source": [
    " string = 'cat catherine catholic wildcat copycat uncatchable'"
   ]
  },
  {
   "cell_type": "code",
   "execution_count": 106,
   "id": "84c87e28",
   "metadata": {},
   "outputs": [],
   "source": [
    "pattern = re.compile(r'\\bcat\\b')"
   ]
  },
  {
   "cell_type": "code",
   "execution_count": 107,
   "id": "bffc74e3",
   "metadata": {},
   "outputs": [
    {
     "data": {
      "text/plain": [
       "['cat']"
      ]
     },
     "execution_count": 107,
     "metadata": {},
     "output_type": "execute_result"
    }
   ],
   "source": [
    "re.findall(pattern, string)"
   ]
  },
  {
   "cell_type": "code",
   "execution_count": 92,
   "id": "91f19a30",
   "metadata": {},
   "outputs": [],
   "source": [
    "#WORD bOUNDARIES"
   ]
  },
  {
   "cell_type": "code",
   "execution_count": 96,
   "id": "50290d60",
   "metadata": {},
   "outputs": [],
   "source": [
    " string = '.cat catherine catholic wildcat copycat uncatchable'"
   ]
  },
  {
   "cell_type": "code",
   "execution_count": 97,
   "id": "45e022d8",
   "metadata": {},
   "outputs": [
    {
     "data": {
      "text/plain": [
       "['cat']"
      ]
     },
     "execution_count": 97,
     "metadata": {},
     "output_type": "execute_result"
    }
   ],
   "source": [
    "pattern = re.compile(r'\\bcat\\b')\n",
    "re.findall(pattern, string)"
   ]
  },
  {
   "cell_type": "code",
   "execution_count": 108,
   "id": "a4130030",
   "metadata": {},
   "outputs": [],
   "source": [
    " string = '@cat catherine catholic wildcat copycat uncatchable'"
   ]
  },
  {
   "cell_type": "code",
   "execution_count": 109,
   "id": "05a76408",
   "metadata": {},
   "outputs": [
    {
     "data": {
      "text/plain": [
       "['cat']"
      ]
     },
     "execution_count": 109,
     "metadata": {},
     "output_type": "execute_result"
    }
   ],
   "source": [
    "pattern = re.compile(r'\\bcat\\b')\n",
    "re.findall(pattern, string)"
   ]
  },
  {
   "cell_type": "code",
   "execution_count": 156,
   "id": "33164e84",
   "metadata": {},
   "outputs": [],
   "source": [
    "string = '@moondra2017.org'\n",
    "string2 = '@moondra @moondra @moondra'\n",
    "string3 = 'Python@mondra'\n",
    "string4 = '@mondra_python '"
   ]
  },
  {
   "cell_type": "code",
   "execution_count": 176,
   "id": "04c5514e",
   "metadata": {},
   "outputs": [],
   "source": [
    "pattern = re.compile(r'\\b@[\\w]+\\b')"
   ]
  },
  {
   "cell_type": "code",
   "execution_count": 177,
   "id": "c9e6cc64",
   "metadata": {},
   "outputs": [],
   "source": [
    "re.search(pattern,string)"
   ]
  },
  {
   "cell_type": "code",
   "execution_count": 178,
   "id": "1643eac0",
   "metadata": {},
   "outputs": [],
   "source": [
    "pattern = re.compile(r'\\B@[\\w]+\\b')"
   ]
  },
  {
   "cell_type": "code",
   "execution_count": 179,
   "id": "9f31b29d",
   "metadata": {},
   "outputs": [
    {
     "data": {
      "text/plain": [
       "'@moondra2017'"
      ]
     },
     "execution_count": 179,
     "metadata": {},
     "output_type": "execute_result"
    }
   ],
   "source": [
    "re.search(pattern,string).group()"
   ]
  },
  {
   "cell_type": "code",
   "execution_count": 180,
   "id": "5236a397",
   "metadata": {},
   "outputs": [],
   "source": [
    "pattern = re.compile(r'\\B@[\\w]+$')"
   ]
  },
  {
   "cell_type": "code",
   "execution_count": 174,
   "id": "3a1f97e8",
   "metadata": {},
   "outputs": [
    {
     "data": {
      "text/plain": [
       "[]"
      ]
     },
     "execution_count": 174,
     "metadata": {},
     "output_type": "execute_result"
    }
   ],
   "source": [
    "re.findall(pattern,string)"
   ]
  },
  {
   "cell_type": "code",
   "execution_count": 163,
   "id": "734ad1fc",
   "metadata": {},
   "outputs": [],
   "source": [
    "re.search(pattern,string4)"
   ]
  },
  {
   "cell_type": "code",
   "execution_count": 164,
   "id": "70759243",
   "metadata": {},
   "outputs": [
    {
     "data": {
      "text/plain": [
       "['@moondra']"
      ]
     },
     "execution_count": 164,
     "metadata": {},
     "output_type": "execute_result"
    }
   ],
   "source": [
    "re.findall(pattern,string2)"
   ]
  },
  {
   "cell_type": "code",
   "execution_count": 165,
   "id": "9deb3e20",
   "metadata": {},
   "outputs": [],
   "source": [
    "re.search(pattern,string3)"
   ]
  },
  {
   "cell_type": "code",
   "execution_count": 172,
   "id": "185b8112",
   "metadata": {},
   "outputs": [
    {
     "data": {
      "text/plain": [
       "[]"
      ]
     },
     "execution_count": 172,
     "metadata": {},
     "output_type": "execute_result"
    }
   ],
   "source": [
    "pattern = re.compile(r'\\B@[\\w]+\\b(?!\\.)') #?! It's a negative lookahead\n",
    "re.findall(pattern,string)"
   ]
  },
  {
   "cell_type": "code",
   "execution_count": 181,
   "id": "e8438e48",
   "metadata": {},
   "outputs": [],
   "source": [
    "# 'Capture'\n",
    "# 'Consume'"
   ]
  },
  {
   "cell_type": "code",
   "execution_count": 185,
   "id": "a108e743",
   "metadata": {},
   "outputs": [],
   "source": [
    "# 4 types of look arounds\n",
    " #Positive look ahead ?= \n",
    " #Negative look ahead ?!\n",
    " #Positive look behind ?<=\n",
    " #Negative look behind ?<=!\n",
    "#Similar syntax\n",
    " # ?: non-captureing groups\n",
    " # ?P naming groups"
   ]
  },
  {
   "cell_type": "code",
   "execution_count": 186,
   "id": "f952ac22",
   "metadata": {},
   "outputs": [],
   "source": [
    "string ='''ABC1  1.1.1.1  20151118  active\n",
    "           ABC2  2.2.2.2  20151118  inactive\n",
    "           ABC3  x.x.x.x  xxxxxxxx  active'''"
   ]
  },
  {
   "cell_type": "code",
   "execution_count": 195,
   "id": "e80f135a",
   "metadata": {},
   "outputs": [],
   "source": [
    "pattern = re.compile('ABC\\w\\s+(\\S+)\\s+\\S+\\s+(?=active)') #Positive look ahead"
   ]
  },
  {
   "cell_type": "code",
   "execution_count": 196,
   "id": "4ee18171",
   "metadata": {},
   "outputs": [
    {
     "data": {
      "text/plain": [
       "['1.1.1.1', 'x.x.x.x']"
      ]
     },
     "execution_count": 196,
     "metadata": {},
     "output_type": "execute_result"
    }
   ],
   "source": [
    "re.findall(pattern,string)"
   ]
  },
  {
   "cell_type": "code",
   "execution_count": 199,
   "id": "4f0e757f",
   "metadata": {},
   "outputs": [
    {
     "data": {
      "text/plain": [
       "['1.1.1.1', 'x.x.x.x']"
      ]
     },
     "execution_count": 199,
     "metadata": {},
     "output_type": "execute_result"
    }
   ],
   "source": [
    "pattern = re.compile('ABC\\w\\s+(\\S+)\\s+\\S+\\s+(?:active)') #non capturing group\n",
    "re.findall(pattern, string)"
   ]
  },
  {
   "cell_type": "code",
   "execution_count": 201,
   "id": "8305376b",
   "metadata": {},
   "outputs": [
    {
     "data": {
      "text/plain": [
       "['1.1.1.1', '2.2.2.2', 'x.x.x.x']"
      ]
     },
     "execution_count": 201,
     "metadata": {},
     "output_type": "execute_result"
    }
   ],
   "source": [
    "pattern = re.compile('ABC\\w\\s+(\\S+)\\s+\\S+\\s+(?!active)')\n",
    "re.findall(pattern, string)"
   ]
  },
  {
   "cell_type": "markdown",
   "id": "2c8f6487",
   "metadata": {},
   "source": [
    "# Different between no-capture groups and look arounds"
   ]
  },
  {
   "cell_type": "code",
   "execution_count": 202,
   "id": "65a7f9ff",
   "metadata": {},
   "outputs": [],
   "source": [
    "string = 'ababbabababacb'"
   ]
  },
  {
   "cell_type": "code",
   "execution_count": 207,
   "id": "becf1103",
   "metadata": {},
   "outputs": [],
   "source": [
    "pattern = re.compile('(?:b)(a)(?:b)') #non capturing group"
   ]
  },
  {
   "cell_type": "code",
   "execution_count": 206,
   "id": "f004359d",
   "metadata": {},
   "outputs": [
    {
     "data": {
      "text/plain": [
       "['a', 'a', 'a']"
      ]
     },
     "execution_count": 206,
     "metadata": {},
     "output_type": "execute_result"
    }
   ],
   "source": [
    "re.findall(pattern, string)"
   ]
  },
  {
   "cell_type": "code",
   "execution_count": 219,
   "id": "ffbe4735",
   "metadata": {},
   "outputs": [],
   "source": [
    "string ='abababacb'"
   ]
  },
  {
   "cell_type": "code",
   "execution_count": 221,
   "id": "e71d2d98",
   "metadata": {},
   "outputs": [
    {
     "data": {
      "text/plain": [
       "['a', 'a']"
      ]
     },
     "execution_count": 221,
     "metadata": {},
     "output_type": "execute_result"
    }
   ],
   "source": [
    "patter = re.compile('(?<=b)(a)(?=b)') #look around\n",
    "re.findall(patter,string)"
   ]
  },
  {
   "cell_type": "code",
   "execution_count": 222,
   "id": "f74e7c50",
   "metadata": {},
   "outputs": [],
   "source": [
    "#Capture "
   ]
  },
  {
   "cell_type": "code",
   "execution_count": 227,
   "id": "c9fb00d7",
   "metadata": {},
   "outputs": [
    {
     "data": {
      "text/plain": [
       "['bab', 'bab']"
      ]
     },
     "execution_count": 227,
     "metadata": {},
     "output_type": "execute_result"
    }
   ],
   "source": [
    "string ='abababacb' \n",
    "pattern = re.compile('(?=(bab))')\n",
    "re.findall(pattern,string)"
   ]
  },
  {
   "cell_type": "code",
   "execution_count": 228,
   "id": "82ff85cd",
   "metadata": {},
   "outputs": [],
   "source": [
    "string = 'I love cherries, apples, and strawberries.'"
   ]
  },
  {
   "cell_type": "code",
   "execution_count": 230,
   "id": "63c576cd",
   "metadata": {},
   "outputs": [],
   "source": [
    "pattern2 = re.compile(r'(\\w+)(?=\\.|,)')\n"
   ]
  },
  {
   "cell_type": "code",
   "execution_count": 232,
   "id": "44fb16bc",
   "metadata": {},
   "outputs": [
    {
     "data": {
      "text/plain": [
       "['cherries', 'apples', 'strawberries']"
      ]
     },
     "execution_count": 232,
     "metadata": {},
     "output_type": "execute_result"
    }
   ],
   "source": [
    "re.findall(pattern2, string)"
   ]
  },
  {
   "cell_type": "code",
   "execution_count": 17,
   "id": "df2b1d91",
   "metadata": {},
   "outputs": [
    {
     "data": {
      "text/plain": [
       "[]"
      ]
     },
     "execution_count": 17,
     "metadata": {},
     "output_type": "execute_result"
    }
   ],
   "source": [
    "pattern2 = re.compile(r'(\\w+)(?:\\.|,)')\n",
    "re.findall(pattern2, string)\n"
   ]
  },
  {
   "cell_type": "markdown",
   "id": "9081b8d8",
   "metadata": {},
   "source": [
    "# Consecutive look around gallacy"
   ]
  },
  {
   "cell_type": "code",
   "execution_count": 18,
   "id": "35f96205",
   "metadata": {},
   "outputs": [],
   "source": [
    "string = '''cherry 100 red\n",
    "            apple 150 green\n",
    "            grapes 200'''"
   ]
  },
  {
   "cell_type": "code",
   "execution_count": 19,
   "id": "b7cbde77",
   "metadata": {},
   "outputs": [
    {
     "data": {
      "text/plain": [
       "[]"
      ]
     },
     "execution_count": 19,
     "metadata": {},
     "output_type": "execute_result"
    }
   ],
   "source": [
    "pattern = re.compile(r'[a-z]+\\s*(?= \\d+)(?=\\s*)(?=[a-z]+)')\n",
    "re.findall(pattern,string)"
   ]
  },
  {
   "cell_type": "code",
   "execution_count": 20,
   "id": "8f2610d0",
   "metadata": {},
   "outputs": [
    {
     "data": {
      "text/plain": [
       "['cherry ', 'apple ']"
      ]
     },
     "execution_count": 20,
     "metadata": {},
     "output_type": "execute_result"
    }
   ],
   "source": [
    "pattern = re.compile(r'[a-z]+\\s*(?=\\d+\\s*[a-z]+)')\n",
    "re.findall(pattern,string)"
   ]
  },
  {
   "cell_type": "code",
   "execution_count": 22,
   "id": "00d47cb8",
   "metadata": {},
   "outputs": [],
   "source": [
    "pattern = re.compile('(?=.*[a-z])(?=.*[A-Z])(?=.*[0-9])(?=.*[!?.])\\S+')"
   ]
  },
  {
   "cell_type": "code",
   "execution_count": 33,
   "id": "ca854681",
   "metadata": {},
   "outputs": [],
   "source": [
    "string = 'AZN#3232!abbb32...'\n",
    "string2 = 'AZN#3232!abbb3232'"
   ]
  },
  {
   "cell_type": "code",
   "execution_count": 35,
   "id": "9d40f6fa",
   "metadata": {},
   "outputs": [
    {
     "data": {
      "text/plain": [
       "'AZN#3232!abbb32'"
      ]
     },
     "execution_count": 35,
     "metadata": {},
     "output_type": "execute_result"
    }
   ],
   "source": [
    "re.search(pattern, string).group()"
   ]
  },
  {
   "cell_type": "code",
   "execution_count": 36,
   "id": "bb721a45",
   "metadata": {},
   "outputs": [
    {
     "data": {
      "text/plain": [
       "<re.Match object; span=(0, 17), match='AZN#3232!abbb3232'>"
      ]
     },
     "execution_count": 36,
     "metadata": {},
     "output_type": "execute_result"
    }
   ],
   "source": [
    "re.search(pattern, string2)"
   ]
  },
  {
   "cell_type": "code",
   "execution_count": 37,
   "id": "447c8c42",
   "metadata": {},
   "outputs": [],
   "source": [
    "string = '''\n",
    "Remaining party applications:\n",
    "\n",
    "Ocupation : Party Planner\n",
    "Ocupation : Banking\n",
    "Ocupation : Cook\n",
    "Ocupation : Publicist\n",
    "Ocupation : Banker\n",
    "Ocupation : baker\n",
    "Ocupation : pierrot'''"
   ]
  },
  {
   "cell_type": "code",
   "execution_count": 48,
   "id": "dfb96e1d",
   "metadata": {},
   "outputs": [],
   "source": [
    "pattern = re.compile('Ocupation : (?!Baker|Baking|Cook).+',flags = re.IGNORECASE)"
   ]
  },
  {
   "cell_type": "code",
   "execution_count": 49,
   "id": "7c4c581c",
   "metadata": {},
   "outputs": [
    {
     "data": {
      "text/plain": [
       "['Ocupation : Party Planner',\n",
       " 'Ocupation : Banking',\n",
       " 'Ocupation : Publicist',\n",
       " 'Ocupation : Banker',\n",
       " 'Ocupation : pierrot']"
      ]
     },
     "execution_count": 49,
     "metadata": {},
     "output_type": "execute_result"
    }
   ],
   "source": [
    "re.findall(pattern, string)"
   ]
  },
  {
   "cell_type": "code",
   "execution_count": 43,
   "id": "288dc988",
   "metadata": {},
   "outputs": [],
   "source": [
    "#Negative Look Behind\n"
   ]
  },
  {
   "cell_type": "code",
   "execution_count": 31,
   "id": "76b294c1",
   "metadata": {},
   "outputs": [],
   "source": [
    "string = '''\n",
    "Full invitation list:\n",
    "\n",
    "Guest: Ashley Jackson\n",
    "Guest: Maria Jackson\n",
    "Guest: Bob Sanders\n",
    "Guest: Bill Smith\n",
    "Entertainer: Michael Johson\n",
    "Baker: Chris Jackson\n",
    "Party Planner: Seema Patel\n",
    "Publist: Sema Patel\n",
    "Baker: Ashley Sanders'''"
   ]
  },
  {
   "cell_type": "code",
   "execution_count": 37,
   "id": "fdafc9d5",
   "metadata": {},
   "outputs": [],
   "source": [
    "pattern = re.compile(r'(?<!Baker: )\\b\\w+\\s\\w+$',flags = re.IGNORECASE|re.M)"
   ]
  },
  {
   "cell_type": "code",
   "execution_count": 38,
   "id": "30db4360",
   "metadata": {},
   "outputs": [
    {
     "data": {
      "text/plain": [
       "['Ashley Jackson',\n",
       " 'Maria Jackson',\n",
       " 'Bob Sanders',\n",
       " 'Bill Smith',\n",
       " 'Michael Johson',\n",
       " 'Seema Patel',\n",
       " 'Sema Patel']"
      ]
     },
     "execution_count": 38,
     "metadata": {},
     "output_type": "execute_result"
    }
   ],
   "source": [
    "re.findall(pattern, string)"
   ]
  },
  {
   "cell_type": "code",
   "execution_count": 44,
   "id": "320566da",
   "metadata": {},
   "outputs": [
    {
     "data": {
      "text/plain": [
       "['Full invitation',\n",
       " 'Ashley Jackson',\n",
       " 'Maria Jackson',\n",
       " 'Bob Sanders',\n",
       " 'Bill Smith',\n",
       " 'Michael Johson',\n",
       " 'Jackson\\nParty',\n",
       " 'Seema Patel',\n",
       " 'Sema Patel']"
      ]
     },
     "execution_count": 44,
     "metadata": {},
     "output_type": "execute_result"
    }
   ],
   "source": [
    "pattern = re.compile(r'(?<!Baker: )\\b\\w+\\s\\w+$',flags = re.IGNORECASE)\n",
    "re.findall(pattern, string)"
   ]
  },
  {
   "cell_type": "code",
   "execution_count": 59,
   "id": "d876a07b",
   "metadata": {},
   "outputs": [],
   "source": [
    "string = '''\n",
    "Full invitation list:\n",
    "\n",
    "Guest: Ashley Jackson\n",
    "Guest: Maria Mairo Jackson\n",
    "Guest: Bob Sanders\n",
    "Guest: Bill Smith\n",
    "Entertainer: Michael Johson\n",
    "Baker: Chris Jackson\n",
    "Party Planner: Seema Patel\n",
    "Publist: Sema Bahadhur Patel\n",
    "Baker: Ashley Sanders'''"
   ]
  },
  {
   "cell_type": "code",
   "execution_count": 60,
   "id": "7c48cc00",
   "metadata": {},
   "outputs": [],
   "source": [
    "pattern = re.compile(r'(?<!Guest: )\\b\\w+\\s\\w+$|\\b\\w+\\s\\w+\\s\\w+$',flags = re.IGNORECASE|re.M)"
   ]
  },
  {
   "cell_type": "code",
   "execution_count": 61,
   "id": "0471e0e6",
   "metadata": {},
   "outputs": [
    {
     "data": {
      "text/plain": [
       "['Maria Mairo Jackson',\n",
       " 'Michael Johson',\n",
       " 'Chris Jackson',\n",
       " 'Seema Patel',\n",
       " 'Sema Bahadhur Patel',\n",
       " 'Ashley Sanders']"
      ]
     },
     "execution_count": 61,
     "metadata": {},
     "output_type": "execute_result"
    }
   ],
   "source": [
    "re.findall(pattern, string)"
   ]
  },
  {
   "cell_type": "code",
   "execution_count": 64,
   "id": "6d30f2a5",
   "metadata": {},
   "outputs": [],
   "source": [
    "string = '''\n",
    "Full invitation list:\n",
    "\n",
    "Guest: Ashley Jackson\n",
    "Guest: Maria Mairo Jackson\n",
    "Guest: Bob Sanders\n",
    "Guest: Bill Smith\n",
    "Entertainer: Michael Johson\n",
    "Baker: Chris Jackson\n",
    "Party Planner: Seema Patel\n",
    "Publist: Sema Bahadhur Patel\n",
    "Baker: Ashley Sanders'''"
   ]
  },
  {
   "cell_type": "code",
   "execution_count": 75,
   "id": "8d23eeac",
   "metadata": {},
   "outputs": [],
   "source": [
    "pattern = re.compile(r'^(?!Baker: ).+\\w+$',flags = re.IGNORECASE|re.M)"
   ]
  },
  {
   "cell_type": "code",
   "execution_count": 76,
   "id": "8ede088e",
   "metadata": {},
   "outputs": [
    {
     "data": {
      "text/plain": [
       "['Guest: Ashley Jackson',\n",
       " 'Guest: Maria Mairo Jackson',\n",
       " 'Guest: Bob Sanders',\n",
       " 'Guest: Bill Smith',\n",
       " 'Entertainer: Michael Johson',\n",
       " 'Party Planner: Seema Patel',\n",
       " 'Publist: Sema Bahadhur Patel']"
      ]
     },
     "execution_count": 76,
     "metadata": {},
     "output_type": "execute_result"
    }
   ],
   "source": [
    "re.findall(pattern, string)"
   ]
  },
  {
   "cell_type": "code",
   "execution_count": 86,
   "id": "78b7352e",
   "metadata": {},
   "outputs": [],
   "source": [
    "import regex"
   ]
  },
  {
   "cell_type": "code",
   "execution_count": 93,
   "id": "aa438c8f",
   "metadata": {},
   "outputs": [],
   "source": [
    "string = '''1112  ABCC 7777777  active\n",
    "            2222  ABC  8888888  inactive\n",
    "            3333  XYZ  xxxxxxx  active\n",
    "            4444  1445 2035118  inactive\n",
    "            \n",
    "            '''"
   ]
  },
  {
   "cell_type": "code",
   "execution_count": 96,
   "id": "8be6adac",
   "metadata": {},
   "outputs": [],
   "source": [
    "pattern = regex.compile(r'(?<=[A-Z]+) [A-Z]+\\s+(\\S+)') #look behind # loo"
   ]
  },
  {
   "cell_type": "code",
   "execution_count": 97,
   "id": "9f83dad1",
   "metadata": {},
   "outputs": [
    {
     "data": {
      "text/plain": [
       "[]"
      ]
     },
     "execution_count": 97,
     "metadata": {},
     "output_type": "execute_result"
    }
   ],
   "source": [
    "regex.findall(pattern, string)"
   ]
  },
  {
   "cell_type": "code",
   "execution_count": 98,
   "id": "01b3994a",
   "metadata": {},
   "outputs": [
    {
     "data": {
      "text/plain": [
       "['7777777', '8888888', 'xxxxxxx']"
      ]
     },
     "execution_count": 98,
     "metadata": {},
     "output_type": "execute_result"
    }
   ],
   "source": [
    "pattern = regex.compile(r'(?<=[A-Z]+)\\s+(\\S+)') #look behind # loo\n",
    "regex.findall(pattern, string)"
   ]
  },
  {
   "cell_type": "code",
   "execution_count": 107,
   "id": "cf5517b6",
   "metadata": {},
   "outputs": [],
   "source": [
    "s = 'C:\\Tools\\System32\\calc.exe'\n",
    "s1 = 'C:\\Windows\\System32\\calc.exe'\n",
    "s2 = 'C:\\Windows\\System32\\De-de\\calc.exe'\n",
    "s3 = 'C:\\Windows\\System32\\wo\\calc.exe'\n",
    "s4 = 'C:\\Tools\\calc.exe'"
   ]
  },
  {
   "cell_type": "code",
   "execution_count": 108,
   "id": "61cb5c8e",
   "metadata": {},
   "outputs": [],
   "source": [
    "pattern = regex.compile('(?<!System32.*)calc.exe')"
   ]
  },
  {
   "cell_type": "code",
   "execution_count": 110,
   "id": "69ff6666",
   "metadata": {},
   "outputs": [
    {
     "data": {
      "text/plain": [
       "['calc.exe']"
      ]
     },
     "execution_count": 110,
     "metadata": {},
     "output_type": "execute_result"
    }
   ],
   "source": [
    "regex.findall(pattern,s4)"
   ]
  },
  {
   "cell_type": "code",
   "execution_count": null,
   "id": "6eb32fe4",
   "metadata": {},
   "outputs": [],
   "source": []
  }
 ],
 "metadata": {
  "kernelspec": {
   "display_name": "Python 3 (ipykernel)",
   "language": "python",
   "name": "python3"
  },
  "language_info": {
   "codemirror_mode": {
    "name": "ipython",
    "version": 3
   },
   "file_extension": ".py",
   "mimetype": "text/x-python",
   "name": "python",
   "nbconvert_exporter": "python",
   "pygments_lexer": "ipython3",
   "version": "3.11.1"
  }
 },
 "nbformat": 4,
 "nbformat_minor": 5
}
