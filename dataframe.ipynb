{
 "cells": [
  {
   "cell_type": "code",
   "execution_count": 1,
   "id": "99d69f0f",
   "metadata": {},
   "outputs": [],
   "source": [
    "import pandas as pd"
   ]
  },
  {
   "cell_type": "code",
   "execution_count": 2,
   "id": "9890a308",
   "metadata": {},
   "outputs": [],
   "source": [
    "student = {'Alice' : 'Physics','Jack' : 'Math','Hari' : 'hemistry'}"
   ]
  },
  {
   "cell_type": "code",
   "execution_count": 3,
   "id": "99992b32",
   "metadata": {},
   "outputs": [],
   "source": [
    "s = pd.Series(student)"
   ]
  },
  {
   "cell_type": "code",
   "execution_count": 4,
   "id": "38ebde05",
   "metadata": {},
   "outputs": [
    {
     "data": {
      "text/plain": [
       "Alice     Physics\n",
       "Jack         Math\n",
       "Hari     hemistry\n",
       "dtype: object"
      ]
     },
     "execution_count": 4,
     "metadata": {},
     "output_type": "execute_result"
    }
   ],
   "source": [
    "s"
   ]
  },
  {
   "cell_type": "code",
   "execution_count": 5,
   "id": "9c9d02bd",
   "metadata": {},
   "outputs": [
    {
     "data": {
      "text/plain": [
       "'hemistry'"
      ]
     },
     "execution_count": 5,
     "metadata": {},
     "output_type": "execute_result"
    }
   ],
   "source": [
    "s.iloc[2]"
   ]
  },
  {
   "cell_type": "code",
   "execution_count": 6,
   "id": "51117c78",
   "metadata": {},
   "outputs": [
    {
     "data": {
      "text/plain": [
       "'hemistry'"
      ]
     },
     "execution_count": 6,
     "metadata": {},
     "output_type": "execute_result"
    }
   ],
   "source": [
    "s.loc['Hari']"
   ]
  },
  {
   "cell_type": "code",
   "execution_count": 7,
   "id": "d1c75309",
   "metadata": {},
   "outputs": [
    {
     "data": {
      "text/plain": [
       "'Physics'"
      ]
     },
     "execution_count": 7,
     "metadata": {},
     "output_type": "execute_result"
    }
   ],
   "source": [
    "s['Alice']"
   ]
  },
  {
   "cell_type": "code",
   "execution_count": 8,
   "id": "95da5fee",
   "metadata": {},
   "outputs": [],
   "source": [
    "class_code = {\n",
    "    99 :'Physics',\n",
    "    34 :'CHemistry',\n",
    "    45 : 'Nepali',\n",
    "    89 : 'Social',\n",
    "    98 : ' English'\n",
    "}"
   ]
  },
  {
   "cell_type": "code",
   "execution_count": 9,
   "id": "88676c82",
   "metadata": {},
   "outputs": [],
   "source": [
    "s = pd.Series(class_code)"
   ]
  },
  {
   "cell_type": "code",
   "execution_count": 10,
   "id": "828f30c7",
   "metadata": {},
   "outputs": [
    {
     "data": {
      "text/plain": [
       "99      Physics\n",
       "34    CHemistry\n",
       "45       Nepali\n",
       "89       Social\n",
       "98      English\n",
       "dtype: object"
      ]
     },
     "execution_count": 10,
     "metadata": {},
     "output_type": "execute_result"
    }
   ],
   "source": [
    "s"
   ]
  },
  {
   "cell_type": "code",
   "execution_count": 11,
   "id": "cdd84102",
   "metadata": {},
   "outputs": [
    {
     "data": {
      "text/plain": [
       "'Physics'"
      ]
     },
     "execution_count": 11,
     "metadata": {},
     "output_type": "execute_result"
    }
   ],
   "source": [
    "s[99]"
   ]
  },
  {
   "cell_type": "code",
   "execution_count": 12,
   "id": "5fd20d6b",
   "metadata": {},
   "outputs": [],
   "source": [
    "grades = pd.Series([90,99, 89, 78 ,86])"
   ]
  },
  {
   "cell_type": "code",
   "execution_count": 13,
   "id": "7f2d3bef",
   "metadata": {},
   "outputs": [
    {
     "name": "stdout",
     "output_type": "stream",
     "text": [
      "88.4\n"
     ]
    }
   ],
   "source": [
    "total = 0\n",
    "for grade in grades:\n",
    "    total +=grade\n",
    "print(total/len(grades))"
   ]
  },
  {
   "cell_type": "code",
   "execution_count": 14,
   "id": "be47ef77",
   "metadata": {},
   "outputs": [
    {
     "name": "stdout",
     "output_type": "stream",
     "text": [
      "88.4\n"
     ]
    }
   ],
   "source": [
    "import numpy as np\n",
    "total = np.sum(grades)\n",
    "print(total/len(grades))"
   ]
  },
  {
   "cell_type": "code",
   "execution_count": 15,
   "id": "6ebd608e",
   "metadata": {},
   "outputs": [],
   "source": [
    "numbers = pd.Series(np.random.randint(0,1000,10000))"
   ]
  },
  {
   "cell_type": "code",
   "execution_count": 16,
   "id": "97798e92",
   "metadata": {},
   "outputs": [
    {
     "data": {
      "text/plain": [
       "0    343\n",
       "1    523\n",
       "2     87\n",
       "3    883\n",
       "4    815\n",
       "dtype: int32"
      ]
     },
     "execution_count": 16,
     "metadata": {},
     "output_type": "execute_result"
    }
   ],
   "source": [
    "numbers.head()"
   ]
  },
  {
   "cell_type": "code",
   "execution_count": 17,
   "id": "42c32458",
   "metadata": {},
   "outputs": [
    {
     "data": {
      "text/plain": [
       "10000"
      ]
     },
     "execution_count": 17,
     "metadata": {},
     "output_type": "execute_result"
    }
   ],
   "source": [
    "len(numbers)"
   ]
  },
  {
   "cell_type": "code",
   "execution_count": 18,
   "id": "824de195",
   "metadata": {},
   "outputs": [],
   "source": [
    "#magic function"
   ]
  },
  {
   "cell_type": "code",
   "execution_count": 19,
   "id": "ff844fd0",
   "metadata": {},
   "outputs": [
    {
     "name": "stdout",
     "output_type": "stream",
     "text": [
      "883 µs ± 41.2 µs per loop (mean ± std. dev. of 7 runs, 100 loops each)\n"
     ]
    }
   ],
   "source": [
    "%%timeit -n 100\n",
    "total = 0\n",
    "for number in numbers:\n",
    "    total += number\n",
    "total/len(numbers)"
   ]
  },
  {
   "cell_type": "code",
   "execution_count": 20,
   "id": "96bbaf7b",
   "metadata": {},
   "outputs": [
    {
     "name": "stdout",
     "output_type": "stream",
     "text": [
      "40.1 µs ± 6.35 µs per loop (mean ± std. dev. of 7 runs, 100 loops each)\n"
     ]
    }
   ],
   "source": [
    "%%timeit -n 100\n",
    "s =numbers.sum()\n",
    "s/len(numbers)"
   ]
  },
  {
   "cell_type": "code",
   "execution_count": 21,
   "id": "5b507047",
   "metadata": {},
   "outputs": [
    {
     "data": {
      "text/plain": [
       "0       343\n",
       "1       523\n",
       "2        87\n",
       "3       883\n",
       "4       815\n",
       "       ... \n",
       "9995    788\n",
       "9996     40\n",
       "9997    233\n",
       "9998    836\n",
       "9999    392\n",
       "Length: 10000, dtype: int32"
      ]
     },
     "execution_count": 21,
     "metadata": {},
     "output_type": "execute_result"
    }
   ],
   "source": [
    "numbers"
   ]
  },
  {
   "cell_type": "code",
   "execution_count": 22,
   "id": "f8eb3d11",
   "metadata": {},
   "outputs": [],
   "source": [
    "numbers +=2"
   ]
  },
  {
   "cell_type": "code",
   "execution_count": 23,
   "id": "cd808768",
   "metadata": {},
   "outputs": [
    {
     "data": {
      "text/plain": [
       "0    345\n",
       "1    525\n",
       "2     89\n",
       "3    885\n",
       "4    817\n",
       "dtype: int32"
      ]
     },
     "execution_count": 23,
     "metadata": {},
     "output_type": "execute_result"
    }
   ],
   "source": [
    "numbers.head()"
   ]
  },
  {
   "cell_type": "code",
   "execution_count": 68,
   "id": "43e714f2",
   "metadata": {},
   "outputs": [
    {
     "name": "stdout",
     "output_type": "stream",
     "text": [
      "0    4888\n",
      "1    3914\n",
      "2    8173\n",
      "3     698\n",
      "4     580\n",
      "dtype: int32\n",
      "0      4890\n",
      "1      3916\n",
      "2      8175\n",
      "3       700\n",
      "4       582\n",
      "       ... \n",
      "995    9232\n",
      "996    7795\n",
      "997    1808\n",
      "998    2902\n",
      "999    6601\n",
      "Length: 1000, dtype: int32\n"
     ]
    },
    {
     "name": "stderr",
     "output_type": "stream",
     "text": [
      "C:\\Users\\rakes\\AppData\\Local\\Temp\\ipykernel_13080\\666471034.py:3: FutureWarning: iteritems is deprecated and will be removed in a future version. Use .items instead.\n",
      "  for label,value in s.iteritems():\n"
     ]
    }
   ],
   "source": [
    "s = pd.Series(np.random.randint(1,10000,1000))\n",
    "print(s.head())\n",
    "for label,value in s.iteritems():\n",
    "    s[label] =value+2\n",
    "print(s)"
   ]
  },
  {
   "cell_type": "code",
   "execution_count": null,
   "id": "479e5b10",
   "metadata": {},
   "outputs": [],
   "source": []
  }
 ],
 "metadata": {
  "kernelspec": {
   "display_name": "Python 3 (ipykernel)",
   "language": "python",
   "name": "python3"
  },
  "language_info": {
   "codemirror_mode": {
    "name": "ipython",
    "version": 3
   },
   "file_extension": ".py",
   "mimetype": "text/x-python",
   "name": "python",
   "nbconvert_exporter": "python",
   "pygments_lexer": "ipython3",
   "version": "3.10.4"
  }
 },
 "nbformat": 4,
 "nbformat_minor": 5
}
