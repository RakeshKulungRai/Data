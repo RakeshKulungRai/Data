{
 "cells": [
  {
   "cell_type": "code",
   "execution_count": 1,
   "id": "d88bc05c",
   "metadata": {},
   "outputs": [],
   "source": [
    "import re"
   ]
  },
  {
   "cell_type": "code",
   "execution_count": 3,
   "id": "269ec186",
   "metadata": {},
   "outputs": [
    {
     "name": "stdout",
     "output_type": "stream",
     "text": [
      "alas:()\n"
     ]
    }
   ],
   "source": [
    "#match check the begining of the string and resturns a boolean search() checks for match a\n",
    "#anywhere in the string , and returns a boolean\n",
    "text = \"This is a good day.\"\n",
    "if re.search('good',text):\n",
    "    print(\"wonderful\")\n",
    "else:\n",
    "    print (\"ala\")"
   ]
  },
  {
   "cell_type": "code",
   "execution_count": 4,
   "id": "13377528",
   "metadata": {},
   "outputs": [
    {
     "data": {
      "text/plain": [
       "['',\n",
       " ' works diligetly. ',\n",
       " ' gets good grades. Our students ',\n",
       " ' is succesful.']"
      ]
     },
     "execution_count": 4,
     "metadata": {},
     "output_type": "execute_result"
    }
   ],
   "source": [
    "text = \"Amy works diligetly. Amy gets good grades. Our students Amy is succesful.\"\n",
    "re.split('Amy',text)"
   ]
  },
  {
   "cell_type": "code",
   "execution_count": 8,
   "id": "5d3bef85",
   "metadata": {},
   "outputs": [
    {
     "data": {
      "text/plain": [
       "['Amy', 'Amy', 'Amy']"
      ]
     },
     "execution_count": 8,
     "metadata": {},
     "output_type": "execute_result"
    }
   ],
   "source": [
    "re.findall('Amy',text) #findall count the word in the text"
   ]
  },
  {
   "cell_type": "code",
   "execution_count": 13,
   "id": "d738c26d",
   "metadata": {},
   "outputs": [
    {
     "data": {
      "text/plain": [
       "<re.Match object; span=(0, 3), match='Amy'>"
      ]
     },
     "execution_count": 13,
     "metadata": {},
     "output_type": "execute_result"
    }
   ],
   "source": [
    "#ancher tag specify start and dollar sign means end\n",
    "text = \"Amy works diligently. Amy gets good grades. Our student Amy is sucesful.\"\n",
    "re.search('Amy',text)"
   ]
  },
  {
   "cell_type": "code",
   "execution_count": 14,
   "id": "fafb36d8",
   "metadata": {},
   "outputs": [],
   "source": [
    "# Patterns and Character Classes"
   ]
  },
  {
   "cell_type": "code",
   "execution_count": 67,
   "id": "bb260307",
   "metadata": {},
   "outputs": [
    {
     "data": {
      "text/plain": [
       "['B', 'B', 'B']"
      ]
     },
     "execution_count": 67,
     "metadata": {},
     "output_type": "execute_result"
    }
   ],
   "source": [
    "grades =\"ACCACACAAAACBAABCACAABC\"\n",
    "re.findall('B',grades)"
   ]
  },
  {
   "cell_type": "code",
   "execution_count": 68,
   "id": "ae7eb68b",
   "metadata": {},
   "outputs": [
    {
     "data": {
      "text/plain": [
       "['A', 'A', 'A', 'A', 'A', 'A', 'A', 'B', 'A', 'A', 'B', 'A', 'A', 'A', 'B']"
      ]
     },
     "execution_count": 68,
     "metadata": {},
     "output_type": "execute_result"
    }
   ],
   "source": [
    "re.findall('[AB]',grades)"
   ]
  },
  {
   "cell_type": "code",
   "execution_count": 69,
   "id": "e06e3c4c",
   "metadata": {},
   "outputs": [
    {
     "data": {
      "text/plain": [
       "23"
      ]
     },
     "execution_count": 69,
     "metadata": {},
     "output_type": "execute_result"
    }
   ],
   "source": [
    "len(grades)"
   ]
  },
  {
   "cell_type": "code",
   "execution_count": 70,
   "id": "2331dc86",
   "metadata": {},
   "outputs": [
    {
     "data": {
      "text/plain": [
       "['AC', 'AC', 'AC', 'AC', 'AB', 'AC', 'AB']"
      ]
     },
     "execution_count": 70,
     "metadata": {},
     "output_type": "execute_result"
    }
   ],
   "source": [
    "re.findall('[A][B-C]',grades)"
   ]
  },
  {
   "cell_type": "code",
   "execution_count": 71,
   "id": "675c4f9e",
   "metadata": {},
   "outputs": [
    {
     "data": {
      "text/plain": [
       "['A', 'A', 'A', 'A', 'A', 'A', 'A', 'B', 'A', 'A', 'B', 'A', 'A', 'A', 'B']"
      ]
     },
     "execution_count": 71,
     "metadata": {},
     "output_type": "execute_result"
    }
   ],
   "source": [
    "re.findall(\"[^C]\",grades)"
   ]
  },
  {
   "cell_type": "code",
   "execution_count": 72,
   "id": "0d23d3fd",
   "metadata": {},
   "outputs": [
    {
     "data": {
      "text/plain": [
       "['A']"
      ]
     },
     "execution_count": 72,
     "metadata": {},
     "output_type": "execute_result"
    }
   ],
   "source": [
    "re.findall(\"^[A]\",grades)"
   ]
  },
  {
   "cell_type": "code",
   "execution_count": 73,
   "id": "416bde47",
   "metadata": {},
   "outputs": [],
   "source": [
    "#Quantifiers"
   ]
  },
  {
   "cell_type": "code",
   "execution_count": 74,
   "id": "9285f686",
   "metadata": {},
   "outputs": [],
   "source": [
    "#e(m,n) e is the expression or character we are matching,m is the minium\n",
    "#number of times you want it to matched, and n is the maximum number of \n",
    "#times the item could matched"
   ]
  },
  {
   "cell_type": "code",
   "execution_count": 75,
   "id": "3843156f",
   "metadata": {},
   "outputs": [
    {
     "data": {
      "text/plain": [
       "['AAAA', 'AA', 'AA']"
      ]
     },
     "execution_count": 75,
     "metadata": {},
     "output_type": "execute_result"
    }
   ],
   "source": [
    "re.findall('A{2,10}',grades) #we'll use 2 as our min, but ten as our max"
   ]
  },
  {
   "cell_type": "code",
   "execution_count": 76,
   "id": "28f2afcc",
   "metadata": {},
   "outputs": [
    {
     "data": {
      "text/plain": [
       "['AA', 'AA', 'AA', 'AA']"
      ]
     },
     "execution_count": 76,
     "metadata": {},
     "output_type": "execute_result"
    }
   ],
   "source": [
    "re.findall(\"A{1,1}A{1,1}\",grades)"
   ]
  },
  {
   "cell_type": "code",
   "execution_count": 77,
   "id": "d61722e5",
   "metadata": {},
   "outputs": [
    {
     "data": {
      "text/plain": [
       "['AA', 'AA', 'AA', 'AA']"
      ]
     },
     "execution_count": 77,
     "metadata": {},
     "output_type": "execute_result"
    }
   ],
   "source": [
    "re.findall(\"A{2,2}\",grades)"
   ]
  },
  {
   "cell_type": "code",
   "execution_count": 78,
   "id": "488ee89d",
   "metadata": {},
   "outputs": [
    {
     "data": {
      "text/plain": [
       "['AA', 'AA', 'AA', 'AA']"
      ]
     },
     "execution_count": 78,
     "metadata": {},
     "output_type": "execute_result"
    }
   ],
   "source": [
    "re.findall(\"AA\",grades)"
   ]
  },
  {
   "cell_type": "code",
   "execution_count": 79,
   "id": "5fe2c7c3",
   "metadata": {},
   "outputs": [
    {
     "data": {
      "text/plain": [
       "['AA', 'AA', 'AA', 'AA']"
      ]
     },
     "execution_count": 79,
     "metadata": {},
     "output_type": "execute_result"
    }
   ],
   "source": [
    "re.findall(\"A{2}\",grades)"
   ]
  },
  {
   "cell_type": "code",
   "execution_count": 81,
   "id": "a79a3b98",
   "metadata": {},
   "outputs": [
    {
     "data": {
      "text/plain": [
       "['AABC', 'AABC']"
      ]
     },
     "execution_count": 81,
     "metadata": {},
     "output_type": "execute_result"
    }
   ],
   "source": [
    "re.findall(\"A{1,10}B{1,10}C{1,10}\",grades)"
   ]
  },
  {
   "cell_type": "code",
   "execution_count": 86,
   "id": "5e002f75",
   "metadata": {},
   "outputs": [],
   "source": [
    "with open(\"datasets/ferpa.txt\",\"r\") as file:\n",
    "    wiki = file.read()\n"
   ]
  },
  {
   "cell_type": "code",
   "execution_count": 87,
   "id": "9d00f609",
   "metadata": {},
   "outputs": [
    {
     "data": {
      "text/plain": [
       "['records[edit]', 'records[edit]']"
      ]
     },
     "execution_count": 87,
     "metadata": {},
     "output_type": "execute_result"
    }
   ],
   "source": [
    "re.findall(\"[a-zA-Z]{1,100}\\[edit\\]\",wiki)"
   ]
  },
  {
   "cell_type": "code",
   "execution_count": 88,
   "id": "91d05ab6",
   "metadata": {},
   "outputs": [
    {
     "data": {
      "text/plain": [
       "['records[edit]', 'records[edit]']"
      ]
     },
     "execution_count": 88,
     "metadata": {},
     "output_type": "execute_result"
    }
   ],
   "source": [
    "re.findall(\"[\\w]{1,100}\\[edit\\]\",wiki)"
   ]
  },
  {
   "cell_type": "code",
   "execution_count": 89,
   "id": "26f0b6b0",
   "metadata": {},
   "outputs": [
    {
     "data": {
      "text/plain": [
       "['records[edit]', 'records[edit]']"
      ]
     },
     "execution_count": 89,
     "metadata": {},
     "output_type": "execute_result"
    }
   ],
   "source": [
    "re.findall(\"[\\w]*\\[edit\\]\",wiki)"
   ]
  },
  {
   "cell_type": "code",
   "execution_count": 90,
   "id": "cef4f3c8",
   "metadata": {},
   "outputs": [
    {
     "data": {
      "text/plain": [
       "['records[edit]', 'records[edit]']"
      ]
     },
     "execution_count": 90,
     "metadata": {},
     "output_type": "execute_result"
    }
   ],
   "source": [
    "re.findall(\"[\\w]*\\[edit\\]\",wiki)"
   ]
  },
  {
   "cell_type": "code",
   "execution_count": 92,
   "id": "3321ebfb",
   "metadata": {},
   "outputs": [
    {
     "ename": "TypeError",
     "evalue": "split() missing 1 required positional argument: 'string'",
     "output_type": "error",
     "traceback": [
      "\u001b[1;31m---------------------------------------------------------------------------\u001b[0m",
      "\u001b[1;31mTypeError\u001b[0m                                 Traceback (most recent call last)",
      "Cell \u001b[1;32mIn[92], line 2\u001b[0m\n\u001b[0;32m      1\u001b[0m \u001b[38;5;28;01mfor\u001b[39;00m title \u001b[38;5;129;01min\u001b[39;00m re\u001b[38;5;241m.\u001b[39mfindall(\u001b[38;5;124m\"\u001b[39m\u001b[38;5;124m[\u001b[39m\u001b[38;5;124m\\\u001b[39m\u001b[38;5;124mw]*\u001b[39m\u001b[38;5;124m\\\u001b[39m\u001b[38;5;124m[edit\u001b[39m\u001b[38;5;124m\\\u001b[39m\u001b[38;5;124m]\u001b[39m\u001b[38;5;124m\"\u001b[39m,wiki):\n\u001b[1;32m----> 2\u001b[0m     \u001b[38;5;28mprint\u001b[39m(\u001b[43mre\u001b[49m\u001b[38;5;241;43m.\u001b[39;49m\u001b[43msplit\u001b[49m\u001b[43m(\u001b[49m\u001b[38;5;124;43m\"\u001b[39;49m\u001b[38;5;124;43m(\u001b[39;49m\u001b[38;5;124;43m\\\u001b[39;49m\u001b[38;5;124;43m[]\u001b[39;49m\u001b[38;5;124;43m\"\u001b[39;49m\u001b[38;5;241;43m.\u001b[39;49m\u001b[43mtitle\u001b[49m\u001b[43m)\u001b[49m[\u001b[38;5;241m0\u001b[39m])\n",
      "\u001b[1;31mTypeError\u001b[0m: split() missing 1 required positional argument: 'string'"
     ]
    }
   ],
   "source": [
    "for title in re.findall(\"[\\w]*\\[edit\\]\",wiki):\n",
    "    print(re.split(\"(\\[]\".title)[0])"
   ]
  },
  {
   "cell_type": "code",
   "execution_count": null,
   "id": "b0ca61ce",
   "metadata": {},
   "outputs": [],
   "source": []
  }
 ],
 "metadata": {
  "kernelspec": {
   "display_name": "Python 3 (ipykernel)",
   "language": "python",
   "name": "python3"
  },
  "language_info": {
   "codemirror_mode": {
    "name": "ipython",
    "version": 3
   },
   "file_extension": ".py",
   "mimetype": "text/x-python",
   "name": "python",
   "nbconvert_exporter": "python",
   "pygments_lexer": "ipython3",
   "version": "3.10.4"
  }
 },
 "nbformat": 4,
 "nbformat_minor": 5
}
