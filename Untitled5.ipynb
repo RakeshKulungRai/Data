{
 "cells": [
  {
   "cell_type": "code",
   "execution_count": 2,
   "id": "9d46b3ba",
   "metadata": {},
   "outputs": [
    {
     "name": "stdout",
     "output_type": "stream",
     "text": [
      "   SSN    Name  Age  Height Gender  random\n",
      "0    1  rakesh   29     135      m       4\n",
      "1    2     rai   45     345      m       5\n",
      "2    3    anna   33     124      f       6\n",
      "3    4    jhon  187     345      m       7\n",
      "4    5    nuna  123     784      f       8\n"
     ]
    }
   ],
   "source": [
    "import pandas as pd\n",
    "df = pd.read_csv('people.csv',delimiter=',')\n",
    "print(df)"
   ]
  },
  {
   "cell_type": "code",
   "execution_count": 11,
   "id": "4abe8f72",
   "metadata": {},
   "outputs": [
    {
     "name": "stdout",
     "output_type": "stream",
     "text": [
      "   SSN  Name  Age  Height Gender  random\n",
      "1    2   rai   45     345      m       5\n",
      "3    4  jhon  187     345      m       7\n",
      "4    5  nuna  123     784      f       8\n"
     ]
    }
   ],
   "source": [
    "print(df.loc[(df['Age']>=45) & (df['Height'] > 170)])"
   ]
  },
  {
   "cell_type": "code",
   "execution_count": null,
   "id": "c5ca2002",
   "metadata": {},
   "outputs": [],
   "source": []
  }
 ],
 "metadata": {
  "kernelspec": {
   "display_name": "Python 3 (ipykernel)",
   "language": "python",
   "name": "python3"
  },
  "language_info": {
   "codemirror_mode": {
    "name": "ipython",
    "version": 3
   },
   "file_extension": ".py",
   "mimetype": "text/x-python",
   "name": "python",
   "nbconvert_exporter": "python",
   "pygments_lexer": "ipython3",
   "version": "3.10.4"
  }
 },
 "nbformat": 4,
 "nbformat_minor": 5
}
