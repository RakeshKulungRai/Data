{
 "cells": [
  {
   "cell_type": "code",
   "execution_count": 3,
   "id": "6d6f5abb",
   "metadata": {},
   "outputs": [
    {
     "name": "stdout",
     "output_type": "stream",
     "text": [
      "[[1 2 3 4]\n",
      " [5 6 7 8]\n",
      " [9 1 2 3]]\n"
     ]
    }
   ],
   "source": [
    "import numpy as np\n",
    "a = np.array([[1,2,3,4],[5,6,7,8],[9,1,2,3]])\n",
    "print(a)"
   ]
  },
  {
   "cell_type": "code",
   "execution_count": 2,
   "id": "5fb8024c",
   "metadata": {},
   "outputs": [
    {
     "data": {
      "text/plain": [
       "array([[1, 2, 3, 4, 5, 6],\n",
       "       [7, 8, 9, 1, 2, 3]])"
      ]
     },
     "execution_count": 2,
     "metadata": {},
     "output_type": "execute_result"
    }
   ],
   "source": [
    "b = a\n",
    "b.reshape(2,6)\n"
   ]
  },
  {
   "cell_type": "code",
   "execution_count": 6,
   "id": "ccc7805e",
   "metadata": {},
   "outputs": [
    {
     "data": {
      "text/plain": [
       "array([1, 2, 3, 4, 5, 6, 7, 8, 9, 1, 2, 3])"
      ]
     },
     "execution_count": 6,
     "metadata": {},
     "output_type": "execute_result"
    }
   ],
   "source": [
    "b.flatten()"
   ]
  },
  {
   "cell_type": "code",
   "execution_count": 7,
   "id": "8121b503",
   "metadata": {},
   "outputs": [
    {
     "name": "stdout",
     "output_type": "stream",
     "text": [
      "1\n",
      "2\n",
      "3\n",
      "4\n",
      "5\n",
      "6\n",
      "7\n",
      "8\n",
      "9\n",
      "1\n",
      "2\n",
      "3\n"
     ]
    }
   ],
   "source": [
    "for x in a.flat:\n",
    "    print(x)"
   ]
  },
  {
   "cell_type": "code",
   "execution_count": 10,
   "id": "f7aa0ac7",
   "metadata": {},
   "outputs": [
    {
     "name": "stdout",
     "output_type": "stream",
     "text": [
      "3\n"
     ]
    }
   ],
   "source": [
    "print(a.flat[2])"
   ]
  },
  {
   "cell_type": "code",
   "execution_count": 11,
   "id": "bdddb4d1",
   "metadata": {},
   "outputs": [],
   "source": [
    "b =np.array([\n",
    "    [3,4,5,6],\n",
    "    [2,4,7,9],\n",
    "    [1,5,7,9]\n",
    "])"
   ]
  },
  {
   "cell_type": "code",
   "execution_count": 20,
   "id": "ac68ccb4",
   "metadata": {},
   "outputs": [
    {
     "name": "stdout",
     "output_type": "stream",
     "text": [
      "[[1 2 3 4]\n",
      " [5 6 7 8]\n",
      " [9 1 2 3]\n",
      " [3 4 5 6]\n",
      " [2 4 7 9]\n",
      " [1 5 7 9]]\n"
     ]
    }
   ],
   "source": [
    "c = np. concatenate((a,b))\n",
    "print(c)"
   ]
  },
  {
   "cell_type": "code",
   "execution_count": 15,
   "id": "1a9e0429",
   "metadata": {},
   "outputs": [
    {
     "name": "stdout",
     "output_type": "stream",
     "text": [
      "[[3 4 5 6]\n",
      " [2 4 7 9]\n",
      " [1 5 7 9]]\n"
     ]
    }
   ],
   "source": [
    "print(b)"
   ]
  },
  {
   "cell_type": "code",
   "execution_count": 21,
   "id": "348e3211",
   "metadata": {},
   "outputs": [],
   "source": [
    "c2 = np.stack((a,b))"
   ]
  },
  {
   "cell_type": "code",
   "execution_count": 22,
   "id": "5e2dffbb",
   "metadata": {},
   "outputs": [
    {
     "name": "stdout",
     "output_type": "stream",
     "text": [
      "[[[1 2 3 4]\n",
      "  [5 6 7 8]\n",
      "  [9 1 2 3]]\n",
      "\n",
      " [[3 4 5 6]\n",
      "  [2 4 7 9]\n",
      "  [1 5 7 9]]]\n"
     ]
    }
   ],
   "source": [
    "print(c2)"
   ]
  },
  {
   "cell_type": "code",
   "execution_count": 26,
   "id": "38d9fcab",
   "metadata": {},
   "outputs": [
    {
     "name": "stdout",
     "output_type": "stream",
     "text": [
      "(6, 4)\n",
      "(2, 3, 4)\n"
     ]
    }
   ],
   "source": [
    "print(c.shape)\n",
    "print(c2.shape)"
   ]
  },
  {
   "cell_type": "code",
   "execution_count": 30,
   "id": "69f43dcb",
   "metadata": {},
   "outputs": [
    {
     "name": "stdout",
     "output_type": "stream",
     "text": [
      "[array([[1, 2, 3, 4],\n",
      "       [5, 6, 7, 8]]), array([[9, 1, 2, 3],\n",
      "       [3, 4, 5, 6]]), array([[2, 4, 7, 9],\n",
      "       [1, 5, 7, 9]])]\n"
     ]
    }
   ],
   "source": [
    "print(np.split(c,3))"
   ]
  },
  {
   "cell_type": "code",
   "execution_count": 34,
   "id": "c2ae96eb",
   "metadata": {},
   "outputs": [
    {
     "name": "stdout",
     "output_type": "stream",
     "text": [
      "[array([[1, 2],\n",
      "       [5, 6],\n",
      "       [9, 1],\n",
      "       [3, 4],\n",
      "       [2, 4],\n",
      "       [1, 5]]), array([[3, 4],\n",
      "       [7, 8],\n",
      "       [2, 3],\n",
      "       [5, 6],\n",
      "       [7, 9],\n",
      "       [7, 9]])]\n"
     ]
    }
   ],
   "source": [
    "print(np.hsplit(c,2)) #horizontal"
   ]
  },
  {
   "cell_type": "code",
   "execution_count": 37,
   "id": "0e2c7063",
   "metadata": {},
   "outputs": [
    {
     "name": "stdout",
     "output_type": "stream",
     "text": [
      "[[1 2 3 4]\n",
      " [5 6 7 8]\n",
      " [9 1 2 3]\n",
      " [3 4 5 6]\n",
      " [2 4 7 9]\n",
      " [1 5 7 9]]\n"
     ]
    }
   ],
   "source": [
    "print(np.append(a,b,axis =0)) #append horizontal"
   ]
  },
  {
   "cell_type": "code",
   "execution_count": 38,
   "id": "42b3ae43",
   "metadata": {},
   "outputs": [
    {
     "name": "stdout",
     "output_type": "stream",
     "text": [
      "[[1 2 3 4 3 4 5 6]\n",
      " [5 6 7 8 2 4 7 9]\n",
      " [9 1 2 3 1 5 7 9]]\n"
     ]
    }
   ],
   "source": [
    "print(np.append(a,b,axis =1)) #append vertically"
   ]
  },
  {
   "cell_type": "code",
   "execution_count": 41,
   "id": "a30a796c",
   "metadata": {},
   "outputs": [
    {
     "name": "stdout",
     "output_type": "stream",
     "text": [
      "[[1 2 3 4]\n",
      " [3 4 5 6]\n",
      " [2 4 7 9]\n",
      " [1 5 7 9]\n",
      " [5 6 7 8]\n",
      " [9 1 2 3]]\n"
     ]
    }
   ],
   "source": [
    "print(np.insert(a,1,b,axis=0)) #1 is index of row"
   ]
  },
  {
   "cell_type": "code",
   "execution_count": 51,
   "id": "bd286e5d",
   "metadata": {},
   "outputs": [
    {
     "name": "stdout",
     "output_type": "stream",
     "text": [
      "[[1 2 0 0 3 4]\n",
      " [5 6 0 1 7 8]\n",
      " [9 1 0 0 2 3]]\n"
     ]
    }
   ],
   "source": [
    "print(np.insert(a,2,[[0,0,0],[0,1,0]],axis=1)) #1 is index of column it's not woking"
   ]
  },
  {
   "cell_type": "code",
   "execution_count": 47,
   "id": "9b5bb253",
   "metadata": {},
   "outputs": [
    {
     "name": "stdout",
     "output_type": "stream",
     "text": [
      "[[3 4 5 6]\n",
      " [2 4 7 9]\n",
      " [1 5 7 9]]\n"
     ]
    }
   ],
   "source": []
  },
  {
   "cell_type": "code",
   "execution_count": null,
   "id": "7921f07a",
   "metadata": {},
   "outputs": [],
   "source": []
  }
 ],
 "metadata": {
  "kernelspec": {
   "display_name": "Python 3 (ipykernel)",
   "language": "python",
   "name": "python3"
  },
  "language_info": {
   "codemirror_mode": {
    "name": "ipython",
    "version": 3
   },
   "file_extension": ".py",
   "mimetype": "text/x-python",
   "name": "python",
   "nbconvert_exporter": "python",
   "pygments_lexer": "ipython3",
   "version": "3.10.4"
  }
 },
 "nbformat": 4,
 "nbformat_minor": 5
}
