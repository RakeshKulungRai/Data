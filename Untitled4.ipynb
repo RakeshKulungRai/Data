{
 "cells": [
  {
   "cell_type": "code",
   "execution_count": 17,
   "id": "80bc0921",
   "metadata": {},
   "outputs": [],
   "source": [
    "import pandas as pd\n",
    "import matplotlib.pyplot as plt\n",
    "data  ={\n",
    "    'SSN' : [1,2,3,4,5],\n",
    "    'Name' :['rakesh','rai','anna','jhon','nuna'],\n",
    "    'Age' : [29, 45,33, 187,123],\n",
    "    'Height' : [135,145,124,165,114],\n",
    "    'Gender' :['m','m','f','m','f'],\n",
    "    'random' :[4,5,6,7,8]\n",
    "    \n",
    "}\n",
    "df = pd.DataFrame(data)"
   ]
  },
  {
   "cell_type": "code",
   "execution_count": 18,
   "id": "5c91ff33",
   "metadata": {},
   "outputs": [
    {
     "name": "stdout",
     "output_type": "stream",
     "text": [
      "Name      5\n",
      "Age       5\n",
      "Height    5\n",
      "Gender    5\n",
      "random    5\n",
      "dtype: int64\n"
     ]
    }
   ],
   "source": [
    "df.set_index('SSN',inplace = True)\n",
    "print(df.count())"
   ]
  },
  {
   "cell_type": "code",
   "execution_count": 19,
   "id": "b5dbcefb",
   "metadata": {},
   "outputs": [
    {
     "name": "stdout",
     "output_type": "stream",
     "text": [
      "5\n"
     ]
    }
   ],
   "source": [
    "print(df['Age'].count())"
   ]
  },
  {
   "cell_type": "code",
   "execution_count": 20,
   "id": "51a7991d",
   "metadata": {},
   "outputs": [
    {
     "name": "stdout",
     "output_type": "stream",
     "text": [
      "417\n"
     ]
    }
   ],
   "source": [
    "print(df.Age.sum())"
   ]
  },
  {
   "cell_type": "code",
   "execution_count": 21,
   "id": "aeda6a80",
   "metadata": {},
   "outputs": [
    {
     "name": "stdout",
     "output_type": "stream",
     "text": [
      "Name      rakeshraiannajhonnuna\n",
      "Age                         417\n",
      "Height                      683\n",
      "Gender                    mmfmf\n",
      "random                       30\n",
      "dtype: object\n",
      "990538065\n"
     ]
    }
   ],
   "source": [
    "print(df.sum())\n",
    "print(df.Age.prod())"
   ]
  },
  {
   "cell_type": "code",
   "execution_count": 22,
   "id": "c830e566",
   "metadata": {},
   "outputs": [
    {
     "name": "stdout",
     "output_type": "stream",
     "text": [
      "136.6\n"
     ]
    }
   ],
   "source": [
    "print(df.Height.mean())"
   ]
  },
  {
   "cell_type": "code",
   "execution_count": 23,
   "id": "83f339e7",
   "metadata": {},
   "outputs": [
    {
     "name": "stdout",
     "output_type": "stream",
     "text": [
      "135.0\n"
     ]
    }
   ],
   "source": [
    "print(df['Height'].median())"
   ]
  },
  {
   "cell_type": "code",
   "execution_count": 24,
   "id": "d594bdad",
   "metadata": {},
   "outputs": [
    {
     "name": "stdout",
     "output_type": "stream",
     "text": [
      "0    114\n",
      "1    124\n",
      "2    135\n",
      "3    145\n",
      "4    165\n",
      "Name: Height, dtype: int64\n"
     ]
    }
   ],
   "source": [
    "print(df['Height'].mode())"
   ]
  },
  {
   "cell_type": "code",
   "execution_count": 25,
   "id": "90fb2843",
   "metadata": {},
   "outputs": [
    {
     "name": "stdout",
     "output_type": "stream",
     "text": [
      "19.67993902429578\n"
     ]
    }
   ],
   "source": [
    "print(df['Height'].std()) #how avg deviate from mean"
   ]
  },
  {
   "cell_type": "code",
   "execution_count": 27,
   "id": "285564f7",
   "metadata": {},
   "outputs": [
    {
     "name": "stdout",
     "output_type": "stream",
     "text": [
      "count      5.000000\n",
      "mean     136.600000\n",
      "std       19.679939\n",
      "min      114.000000\n",
      "25%      124.000000\n",
      "50%      135.000000\n",
      "75%      145.000000\n",
      "max      165.000000\n",
      "Name: Height, dtype: float64\n"
     ]
    }
   ],
   "source": [
    "print(df['Height'].describe())"
   ]
  },
  {
   "cell_type": "code",
   "execution_count": 28,
   "id": "ca1350b8",
   "metadata": {},
   "outputs": [
    {
     "name": "stdout",
     "output_type": "stream",
     "text": [
      "              Age      Height    random\n",
      "count    5.000000    5.000000  5.000000\n",
      "mean    83.400000  136.600000  6.000000\n",
      "std     69.417577   19.679939  1.581139\n",
      "min     29.000000  114.000000  4.000000\n",
      "25%     33.000000  124.000000  5.000000\n",
      "50%     45.000000  135.000000  6.000000\n",
      "75%    123.000000  145.000000  7.000000\n",
      "max    187.000000  165.000000  8.000000\n"
     ]
    }
   ],
   "source": [
    "print(df.describe())"
   ]
  },
  {
   "cell_type": "code",
   "execution_count": 35,
   "id": "b9b935f8",
   "metadata": {},
   "outputs": [
    {
     "name": "stdout",
     "output_type": "stream",
     "text": [
      "SSN\n",
      "1    13500\n",
      "2    14500\n",
      "3    12400\n",
      "4    16500\n",
      "5    11400\n",
      "Name: Height, dtype: int64\n"
     ]
    }
   ],
   "source": [
    "import numpy as np\n",
    "print(df['Height'].apply(lambda x:x *100))"
   ]
  },
  {
   "cell_type": "code",
   "execution_count": 47,
   "id": "f551f5fe",
   "metadata": {},
   "outputs": [
    {
     "name": "stdout",
     "output_type": "stream",
     "text": [
      "1 : 29\n",
      "2 : 45\n",
      "3 : 33\n",
      "4 : 187\n",
      "5 : 123\n"
     ]
    }
   ],
   "source": [
    "for key,value in df['Age'].items():\n",
    "    print('{} : {}'.format(key,value))\n",
    "    \n",
    "    "
   ]
  },
  {
   "cell_type": "code",
   "execution_count": 49,
   "id": "cef6ffdd",
   "metadata": {},
   "outputs": [
    {
     "name": "stdout",
     "output_type": "stream",
     "text": [
      "Name SSN\n",
      "1    rakesh\n",
      "2       rai\n",
      "3      anna\n",
      "4      jhon\n",
      "5      nuna\n",
      "Name: Name, dtype: object\n",
      "Age SSN\n",
      "1     29\n",
      "2     45\n",
      "3     33\n",
      "4    187\n",
      "5    123\n",
      "Name: Age, dtype: int64\n",
      "Height SSN\n",
      "1    135\n",
      "2    145\n",
      "3    124\n",
      "4    165\n",
      "5    114\n",
      "Name: Height, dtype: int64\n",
      "Gender SSN\n",
      "1    m\n",
      "2    m\n",
      "3    f\n",
      "4    m\n",
      "5    f\n",
      "Name: Gender, dtype: object\n",
      "random SSN\n",
      "1    4\n",
      "2    5\n",
      "3    6\n",
      "4    7\n",
      "5    8\n",
      "Name: random, dtype: int64\n"
     ]
    }
   ],
   "source": [
    "for i,j in df.items():\n",
    "    print(i,j)"
   ]
  },
  {
   "cell_type": "code",
   "execution_count": 55,
   "id": "797058f1",
   "metadata": {},
   "outputs": [
    {
     "name": "stdout",
     "output_type": "stream",
     "text": [
      "       Name  Age  Height Gender  random\n",
      "SSN                                    \n",
      "1    rakesh   29     135      m       4\n",
      "2       rai   45     145      m       5\n",
      "3      anna   33     124      f       6\n",
      "4      jhon  187     165      m       7\n",
      "5      nuna  123     114      f       8\n",
      "       Name  Age  Height Gender  random\n",
      "SSN                                    \n",
      "3      anna   33     124      f       6\n",
      "4      jhon  187     165      m       7\n",
      "5      nuna  123     114      f       8\n",
      "2       rai   45     145      m       5\n",
      "1    rakesh   29     135      m       4\n"
     ]
    }
   ],
   "source": [
    "print(df.sort_index())\n",
    "print(df.sort_values(by =['Name','Age']))"
   ]
  },
  {
   "cell_type": "code",
   "execution_count": null,
   "id": "a34b2cd6",
   "metadata": {},
   "outputs": [],
   "source": []
  }
 ],
 "metadata": {
  "kernelspec": {
   "display_name": "Python 3 (ipykernel)",
   "language": "python",
   "name": "python3"
  },
  "language_info": {
   "codemirror_mode": {
    "name": "ipython",
    "version": 3
   },
   "file_extension": ".py",
   "mimetype": "text/x-python",
   "name": "python",
   "nbconvert_exporter": "python",
   "pygments_lexer": "ipython3",
   "version": "3.10.4"
  }
 },
 "nbformat": 4,
 "nbformat_minor": 5
}
