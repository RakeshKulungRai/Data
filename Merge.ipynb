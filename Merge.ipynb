{
 "cells": [
  {
   "cell_type": "code",
   "execution_count": 3,
   "id": "e93fc600",
   "metadata": {},
   "outputs": [
    {
     "name": "stdout",
     "output_type": "stream",
     "text": [
      "   SSN    Name   Age\n",
      "0    2     ram  34.0\n",
      "1    3     nam   NaN\n",
      "2    4   satya   NaN\n",
      "3    5  badhur  62.0\n",
      "4    1     NaN  28.0\n",
      "5    6     NaN  45.0\n"
     ]
    }
   ],
   "source": [
    "import pandas as pd\n",
    "names ={\n",
    "    'SSN' :[2,3,4,5],\n",
    "    'Name' : ['ram','nam','satya','badhur']\n",
    "}\n",
    "ages ={\n",
    "    'SSN' :[1,2,6,5],\n",
    "    'Age' : [28, 34,45, 62]\n",
    "}\n",
    "df1 = pd.DataFrame(names)\n",
    "df2 = pd.DataFrame(ages)\n",
    "df = pd.merge(df1, df2, on='SSN',how='outer')\n",
    "print(df)"
   ]
  },
  {
   "cell_type": "code",
   "execution_count": 4,
   "id": "2592022c",
   "metadata": {},
   "outputs": [],
   "source": [
    "df.set_index('SSN',inplace = True)"
   ]
  },
  {
   "cell_type": "code",
   "execution_count": 6,
   "id": "376a722b",
   "metadata": {},
   "outputs": [
    {
     "data": {
      "text/html": [
       "<div>\n",
       "<style scoped>\n",
       "    .dataframe tbody tr th:only-of-type {\n",
       "        vertical-align: middle;\n",
       "    }\n",
       "\n",
       "    .dataframe tbody tr th {\n",
       "        vertical-align: top;\n",
       "    }\n",
       "\n",
       "    .dataframe thead th {\n",
       "        text-align: right;\n",
       "    }\n",
       "</style>\n",
       "<table border=\"1\" class=\"dataframe\">\n",
       "  <thead>\n",
       "    <tr style=\"text-align: right;\">\n",
       "      <th></th>\n",
       "      <th>Name</th>\n",
       "      <th>Age</th>\n",
       "    </tr>\n",
       "    <tr>\n",
       "      <th>SSN</th>\n",
       "      <th></th>\n",
       "      <th></th>\n",
       "    </tr>\n",
       "  </thead>\n",
       "  <tbody>\n",
       "    <tr>\n",
       "      <th>1</th>\n",
       "      <td>NaN</td>\n",
       "      <td>28.0</td>\n",
       "    </tr>\n",
       "    <tr>\n",
       "      <th>2</th>\n",
       "      <td>ram</td>\n",
       "      <td>34.0</td>\n",
       "    </tr>\n",
       "    <tr>\n",
       "      <th>3</th>\n",
       "      <td>nam</td>\n",
       "      <td>NaN</td>\n",
       "    </tr>\n",
       "    <tr>\n",
       "      <th>4</th>\n",
       "      <td>satya</td>\n",
       "      <td>NaN</td>\n",
       "    </tr>\n",
       "    <tr>\n",
       "      <th>5</th>\n",
       "      <td>badhur</td>\n",
       "      <td>62.0</td>\n",
       "    </tr>\n",
       "    <tr>\n",
       "      <th>6</th>\n",
       "      <td>NaN</td>\n",
       "      <td>45.0</td>\n",
       "    </tr>\n",
       "  </tbody>\n",
       "</table>\n",
       "</div>"
      ],
      "text/plain": [
       "       Name   Age\n",
       "SSN              \n",
       "1       NaN  28.0\n",
       "2       ram  34.0\n",
       "3       nam   NaN\n",
       "4     satya   NaN\n",
       "5    badhur  62.0\n",
       "6       NaN  45.0"
      ]
     },
     "execution_count": 6,
     "metadata": {},
     "output_type": "execute_result"
    }
   ],
   "source": [
    "df.sort_index()"
   ]
  },
  {
   "cell_type": "code",
   "execution_count": 8,
   "id": "045eed4b",
   "metadata": {},
   "outputs": [
    {
     "name": "stdout",
     "output_type": "stream",
     "text": [
      "   SSN    Name  Age\n",
      "0    2     ram   34\n",
      "1    5  badhur   62\n"
     ]
    }
   ],
   "source": [
    "df = pd.merge(df1, df2, on='SSN',how='inner')\n",
    "print(df)"
   ]
  },
  {
   "cell_type": "code",
   "execution_count": 9,
   "id": "e3c8f165",
   "metadata": {},
   "outputs": [
    {
     "name": "stdout",
     "output_type": "stream",
     "text": [
      "   SSN    Name   Age\n",
      "0    2     ram  34.0\n",
      "1    3     nam   NaN\n",
      "2    4   satya   NaN\n",
      "3    5  badhur  62.0\n"
     ]
    }
   ],
   "source": [
    "df = pd.merge(df1, df2, on='SSN',how='left')\n",
    "print(df)"
   ]
  },
  {
   "cell_type": "code",
   "execution_count": 10,
   "id": "42b1f316",
   "metadata": {},
   "outputs": [
    {
     "name": "stdout",
     "output_type": "stream",
     "text": [
      "   SSN    Name  Age\n",
      "0    1     NaN   28\n",
      "1    2     ram   34\n",
      "2    6     NaN   45\n",
      "3    5  badhur   62\n"
     ]
    }
   ],
   "source": [
    "df = pd.merge(df1, df2, on='SSN',how='right')\n",
    "print(df)"
   ]
  }
 ],
 "metadata": {
  "kernelspec": {
   "display_name": "Python 3 (ipykernel)",
   "language": "python",
   "name": "python3"
  },
  "language_info": {
   "codemirror_mode": {
    "name": "ipython",
    "version": 3
   },
   "file_extension": ".py",
   "mimetype": "text/x-python",
   "name": "python",
   "nbconvert_exporter": "python",
   "pygments_lexer": "ipython3",
   "version": "3.10.4"
  }
 },
 "nbformat": 4,
 "nbformat_minor": 5
}
